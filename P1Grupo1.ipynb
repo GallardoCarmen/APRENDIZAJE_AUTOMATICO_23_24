{
  "nbformat": 4,
  "nbformat_minor": 0,
  "metadata": {
    "colab": {
      "provenance": [],
      "include_colab_link": true
    },
    "kernelspec": {
      "name": "python3",
      "display_name": "Python 3"
    },
    "language_info": {
      "name": "python"
    },
    "accelerator": "TPU"
  },
  "cells": [
    {
      "cell_type": "markdown",
      "metadata": {
        "id": "view-in-github",
        "colab_type": "text"
      },
      "source": [
        "<a href=\"https://colab.research.google.com/github/GallardoCarmen/APRENDIZAJE_AUTOMATICO_23_24/blob/main/P1Grupo1.ipynb\" target=\"_parent\"><img src=\"https://colab.research.google.com/assets/colab-badge.svg\" alt=\"Open In Colab\"/></a>"
      ]
    },
    {
      "cell_type": "markdown",
      "source": [
        "**P1 AA Configuración y Entrenamiento de una Red de Neuronas_23_24**\n",
        "\n",
        "\n"
      ],
      "metadata": {
        "id": "DecBA5sy2Muq"
      }
    },
    {
      "cell_type": "markdown",
      "source": [
        "Grupo 1\n",
        "\n",
        "Carmen Gallardo Martín, Marta Herraiz Méndez, Pablo Mendieta Ruiz\n",
        "\n",
        "**ENUNCIADO:**\n",
        "Crea un modelo de Red de Neuronas Artificiales que sea capaz de reconocer y clasificar\n",
        "imágenes de ropa en sus diferentes tipologías. Este modelo será definido, configurado,\n",
        "entrenado, evaluado y mejorado para posteriormente usarlo para hacer predicciones.\n"
      ],
      "metadata": {
        "id": "iv6oQvdt2zHw"
      }
    },
    {
      "cell_type": "code",
      "source": [
        "# 1._ IMPORTAMOS KERAS\n",
        "\n",
        "import tensorflow as tf\n",
        "from tensorflow import keras\n",
        "import numpy as np\n",
        "\n",
        "from keras.datasets import fashion_mnist\n",
        "(train_images, train_labels), (test_images, test_labels) = fashion_mnist.load_data()\n",
        "\n",
        "print(train_images.shape)\n",
        "print(test_images.shape)"
      ],
      "metadata": {
        "id": "jZNOIWuk2uAm",
        "colab": {
          "base_uri": "https://localhost:8080/"
        },
        "outputId": "2517dbbc-b65d-454b-aa7c-491625edbaeb"
      },
      "execution_count": 12,
      "outputs": [
        {
          "output_type": "stream",
          "name": "stdout",
          "text": [
            "(60000, 28, 28)\n",
            "(10000, 28, 28)\n"
          ]
        }
      ]
    },
    {
      "cell_type": "markdown",
      "source": [
        "Comprobamos que hay 60000 imágenes de entrenamiento y otras 10000 de test\n"
      ],
      "metadata": {
        "id": "-arAV_Dq6HRP"
      }
    },
    {
      "cell_type": "code",
      "source": [
        "# Vemos la matriz de la imagen número 30.000 (28x28)\n",
        "np.set_printoptions(precision=2, suppress=True, linewidth=145)\n",
        "print(np.matrix(train_images[30000]))"
      ],
      "metadata": {
        "colab": {
          "base_uri": "https://localhost:8080/"
        },
        "id": "dGMIRM4phbIw",
        "outputId": "b5e6df41-cff9-453c-a455-16ca4560b887"
      },
      "execution_count": 13,
      "outputs": [
        {
          "output_type": "stream",
          "name": "stdout",
          "text": [
            "[[  0   0   0   0   0   0   0   0   0   0 118 204 181 175 213 199 168 197 111   0   0   0   0   0   0   0   0   0]\n",
            " [  0   0   0   0   0   0   0   0   0   0 173 225 185 179 225 158 142 227 173   0   0   0   0   0   0   0   0   0]\n",
            " [  0   0   0   0   0   0   0   0   0   0 170 229 226 226 233 151 167 234 158   0   0   0   0   0   0   0   0   0]\n",
            " [  0   0   0   0   0   0   0   0   0   0 194 222 212 226 222 240 218 230 163   0   0   0   0   0   0   0   0   0]\n",
            " [  0   0   0   0   0   0   0   0   0   0 198 222 210 207 211 207 208 231 147   0   0   0   0   0   0   0   0   0]\n",
            " [  0   0   0   0   0   0   0   0   0   0 188 220 209 210 211 215 208 230 144   0   1   0   0   0   0   0   0   0]\n",
            " [  0   0   0   0   0   0   0   0   0   0 183 232 214 220 212 220 213 239 158   0   1   0   0   0   0   0   0   0]\n",
            " [  0   0   0   0   0   0   0   0   0   0 183 232 217 216 215 219 216 238 160   0   1   0   0   0   0   0   0   0]\n",
            " [  0   0   0   0   0   0   0   0   0   0 185 231 218 221 215 218 214 238 170   0   1   0   0   0   0   0   0   0]\n",
            " [  0   0   0   0   0   0   0   0   0   0 188 233 215 220 219 219 216 238 169   0   2   0   0   0   0   0   0   0]\n",
            " [  0   0   0   0   0   0   0   0   0   0 169 240 219 221 222 228 214 243 114   0   1   0   0   0   0   0   0   0]\n",
            " [  0   0   0   0   0   0   0   0   0   0 128 255 214 218 206 205 225 233  53   0   0   0   0   0   0   0   0   0]\n",
            " [  0   0   0   0   0   0   0   0   0   0 200 229 218 221 219 211 217 228 204   0   0   0   0   0   0   0   0   0]\n",
            " [  0   0   0   0   0   0   0   0   0  34 230 214 217 216 218 218 220 217 231  42   0   0   0   0   0   0   0   0]\n",
            " [  0   0   0   0   0   0   0   0   0  94 236 213 219 219 218 215 219 213 234 110   0   0   0   0   0   0   0   0]\n",
            " [  0   0   0   0   0   0   0   0   0 167 234 212 218 218 219 212 225 215 231 170   0   0   0   0   0   0   0   0]\n",
            " [  0   0   0   0   0   0   0   0   0 200 230 213 216 218 221 211 224 214 228 213   0   0   0   0   0   0   0   0]\n",
            " [  0   0   0   0   0   0   0   0   0 192 228 213 216 218 222 213 224 215 221 200   0   0   0   0   0   0   0   0]\n",
            " [  0   0   0   0   0   0   0   0   0 202 225 216 214 219 215 219 225 215 219 208   0   0   0   0   0   0   0   0]\n",
            " [  0   0   0   0   0   0   0   0   0 215 224 214 215 221 213 217 220 215 216 216   0   0   0   0   0   0   0   0]\n",
            " [  0   0   0   0   0   0   0   0  26 232 214 218 213 226 212 216 225 215 211 224  27   0   0   0   0   0   0   0]\n",
            " [  0   0   0   0   0   0   0   0  59 234 214 220 214 225 211 213 227 216 212 228  51   0   0   0   0   0   0   0]\n",
            " [  0   0   0   0   0   0   0   0  67 233 214 221 213 227 209 215 228 216 211 228  56   0   0   0   0   0   0   0]\n",
            " [  0   0   0   0   0   0   0   0  92 234 215 219 215 226 208 214 227 215 211 225  42   0   0   0   0   0   0   0]\n",
            " [  0   0   0   0   0   0   0   0 116 236 215 218 211 230 213 212 229 215 211 228  64   0   0   0   0   0   0   0]\n",
            " [  0   0   0   0   0   0   0   0 140 231 218 221 221 236 204 219 224 221 219 227 132   0   0   0   0   0   0   0]\n",
            " [  0   0   0   0   0   0   0   0 107 200 193 205 194 217 213 218 248 202 172 227 105   0   0   0   0   0   0   0]\n",
            " [  0   0   0   0   0   0   0   0   0  21 108 142 146 125 173 141  94 152 154  89   0   0   0   0   0   0   0   0]]\n"
          ]
        }
      ]
    },
    {
      "cell_type": "code",
      "source": [
        "# Vemos que la imagen número 30.000 corresponde al número 3(dress)\n",
        "train_labels[30000]"
      ],
      "metadata": {
        "colab": {
          "base_uri": "https://localhost:8080/"
        },
        "id": "-4cFi3YVhn2o",
        "outputId": "373ad1fb-2280-4011-c796-af1031dcdb57"
      },
      "execution_count": 14,
      "outputs": [
        {
          "output_type": "execute_result",
          "data": {
            "text/plain": [
              "3"
            ]
          },
          "metadata": {},
          "execution_count": 14
        }
      ]
    },
    {
      "cell_type": "code",
      "source": [
        "# Veamos el elemento 30000 y pintémoslo con matplotlib\n",
        "import matplotlib.pyplot as plt\n",
        "digit = train_images[30000]\n",
        "plt.imshow(digit, cmap=plt.cm.binary)\n",
        "plt.show()"
      ],
      "metadata": {
        "colab": {
          "base_uri": "https://localhost:8080/",
          "height": 430
        },
        "id": "js3fthKwiBsA",
        "outputId": "b3f2c0b0-0901-4ca7-dcf9-72501802c975"
      },
      "execution_count": 15,
      "outputs": [
        {
          "output_type": "display_data",
          "data": {
            "text/plain": [
              "<Figure size 640x480 with 1 Axes>"
            ],
            "image/png": "[encoded data removed]"
          },
          "metadata": {}
        }
      ]
    },
    {
      "cell_type": "markdown",
      "source": [
        "**CONSTRUIMOS LA RNA**"
      ],
      "metadata": {
        "id": "t076TS_miScB"
      }
    },
    {
      "cell_type": "code",
      "source": [
        "# 3.- CONSTRUIMOS LA ARQUITECTURA DE LA RED\n",
        "from keras import models\n",
        "from keras import layers\n",
        "# El tipo de red será secuencial. Desde la entrada hasta la salida sin ciclos\n",
        "\n",
        "network = models.Sequential()\n",
        "# Creamos dos capas \"Dense\", que son capas neuronales densamente conectadas\n",
        "# (también llamadas \"completamente conectadas\"). Cada una de las 512 neuronas de\n",
        "# la capa de entrada están conectadas con los 784 píxeles = 28*28. Solo lo\n",
        "# definimos para la primera capa. Para la segunda capa y posteriores, Keras lo\n",
        "# deduce.\n",
        "\n",
        "network.add(layers.Dense(512, activation='relu', input_shape=(28*28,)))\n",
        "# Probar 10 neuronas y 'sigmoid' <==============================================\n",
        "# Capa de salida \"softmax\" de 10 vías (o neuronas). Significa que\n",
        "# devolverá una matriz de 10 puntuaciones de probabilidad (sumando 1)\n",
        "# La puntuación será la probabilidad de que la imagen del dígito actual\n",
        "# pertenezca a una de nuestras clases de 10 dígitos.\n",
        "\n",
        "network.add(layers.Dense(10, activation='softmax'))\n",
        "# Cada capa aplica unas cuantas operaciones con tensores sencillas a los datos\n",
        "# de entrada, y que estas operaciones implican tensores de pesos. Los tensores\n",
        "# de peso, que son los atributos de las capas, son donde persiste el\n",
        "# \"conocimiento\" de la red.\n",
        "# En general, la capa de salida de una red de clasificación tendrá tantas\n",
        "# neuronas como clases, menos en la clasificación binaria, que con 1 vale. Cada\n",
        "# valor será la probabilidad de que la imagen del dígito actual pertenezca a cada\n",
        "# una de las clases\n",
        "\n",
        "network.summary()\n",
        "# Nombre de las capas automáticos a no ser que lo definamos\n",
        "# 401.920 = 784 x 512 + 512 Sesgo\n",
        "# 5.130 = 512x10 + 10 Sesgo\n",
        "# 407.050 = 401.920 + 5.130"
      ],
      "metadata": {
        "colab": {
          "base_uri": "https://localhost:8080/"
        },
        "id": "nKLt-Ww1iRy1",
        "outputId": "03634306-975d-4535-8ad5-ab32d49309d2"
      },
      "execution_count": 16,
      "outputs": [
        {
          "output_type": "stream",
          "name": "stdout",
          "text": [
            "Model: \"sequential_1\"\n",
            "_________________________________________________________________\n",
            " Layer (type)                Output Shape              Param #   \n",
            "=================================================================\n",
            " dense_2 (Dense)             (None, 512)               401920    \n",
            "                                                                 \n",
            " dense_3 (Dense)             (None, 10)                5130      \n",
            "                                                                 \n",
            "=================================================================\n",
            "Total params: 407,050\n",
            "Trainable params: 407,050\n",
            "Non-trainable params: 0\n",
            "_________________________________________________________________\n"
          ]
        }
      ]
    },
    {
      "cell_type": "code",
      "source": [
        "import tensorflow as tf\n",
        "from tensorflow import keras\n",
        "from tensorflow.keras import layers\n",
        "keras.utils.plot_model(network, \"my_first_model.png\", show_shapes=True)"
      ],
      "metadata": {
        "colab": {
          "base_uri": "https://localhost:8080/",
          "height": 312
        },
        "id": "dAak1-qmizML",
        "outputId": "b008a1d9-3c2c-4ae9-8ea2-4bf8b161c02c"
      },
      "execution_count": 17,
      "outputs": [
        {
          "output_type": "execute_result",
          "data": {
            "image/png": "[encoded data removed]",
            "text/plain": [
              "<IPython.core.display.Image object>"
            ]
          },
          "metadata": {},
          "execution_count": 17
        }
      ]
    },
    {
      "cell_type": "code",
      "source": [
        "# 4.- HACEMOS EL PASO DE COMPILACIÓN CARGANDO EL\n",
        "# OPTIMIZADOR, LA FUNCIÓN DE PÉRDIDA Y LAS MÉTRICAS\n",
        "network.compile(optimizer='sgd', # Probar 'sgd' (Stocastic Gradient Descendent)\n",
        "                loss='categorical_crossentropy',\n",
        "                metrics=['accuracy'])\n",
        "# 'categorical_crossentropy' es la función de pérdida que se utiliza como señal\n",
        "# de retroalimentación para aprender los tensores de peso y que la fase de\n",
        "# entrenamiento intentará minimizar\n",
        "# La reducción de la pérdida se produce mediante el descenso de gradiente\n",
        "# estocástico minilote, cuyas reglas exactas están gobernadas por el optimizador\n",
        "# 'rmsprop'\n",
        "# 'accuracy': Solo tendremos en cuenta la fracción de imágenes que son\n",
        "# correctamente clasificadas\n"
      ],
      "metadata": {
        "id": "w7T8oEQzjNsj"
      },
      "execution_count": 18,
      "outputs": []
    },
    {
      "cell_type": "code",
      "source": [
        "# 5.- PREPARAMOS LOS DATOS DE IMAGEN CON ALGUNA TRANSFORMACIÓN. NORMALIZACION\n",
        "# Los tensores transformados tienen la misma cantidad de datos total que el\n",
        "# tensor inicial\n",
        "train_images = train_images.reshape((60000, 28 * 28))\n",
        "\n",
        "\n",
        "test_images = test_images.reshape((10000, 28 * 28))\n",
        "\n",
        "\n",
        "print(train_images)\n",
        "print(len(train_images))\n",
        "print(train_images.shape)\n",
        "np.set_printoptions(precision=2, suppress=True, linewidth=145)\n",
        "print(np.matrix(train_images[3000]))"
      ],
      "metadata": {
        "colab": {
          "base_uri": "https://localhost:8080/"
        },
        "id": "GqsrYA5gj3vj",
        "outputId": "d8a7c6bb-f7dc-4bbf-dbdc-5c87546d5d4e"
      },
      "execution_count": 19,
      "outputs": [
        {
          "output_type": "stream",
          "name": "stdout",
          "text": [
            "[[0 0 0 ... 0 0 0]\n",
            " [0 0 0 ... 0 0 0]\n",
            " [0 0 0 ... 0 0 0]\n",
            " ...\n",
            " [0 0 0 ... 0 0 0]\n",
            " [0 0 0 ... 0 0 0]\n",
            " [0 0 0 ... 0 0 0]]\n",
            "60000\n",
            "(60000, 784)\n",
            "[[  0   0   0   0   0   0   0   0   1   1   0   0 120 131  91 147  30   0   0   1   1   0   0   0   0   0   0   0   0   0   0   0   0   0   1\n",
            "    3   0   0   0   0 251 199 172 195 152   0   0   0   0   3   1   0   0   0   0   0   0   0   0   0   0   0   0   0   0  43 124 193 166 239\n",
            "  255 216 172 228 126  61   0   0   0   0   0   0   0   0   0   0   0   0   0   0   0  96 167 155 159 171 178 211 215 210 196 189 158 164 159\n",
            "  108   0   0   0   0   0   0   0   0   0   0   0   0  83 157 131 117 120 148 148 145 178 159 174 160 123 132 142 172  38   0   0   0   0   0\n",
            "    0   0   0   0   0   0 159 128 118 120 122 112  93 124 161 109 128 128 129 146 138 167 122   0   0   0   0   0   0   0   0   0   0   0 171\n",
            "  135 120 114 118 119 107 125 123 117 124 124 119 145 147 166 148   0   0   0   0   0   0   0   0   0   0   4 171 138 126 120 117 118 102 122\n",
            "  145 111 120 122 120 152 154 155 170   0   0   0   0   0   0   0   0   0   0  31 170 129 138 125 113 106 103 118 137 108 135 130 158 182 138\n",
            "  143 186   0   0   0   0   0   0   0   0   0   0  58 163 114 137 143 119 103 100 109 118 109 129 134 172 181 131 136 190   0   0   0   0   0\n",
            "    0   0   0   0   0  76 160 113 141 148 128 111 101 116 137 111 131 142 167 183 136 120 186  12   0   0   0   0   0   0   0   0   0 100 148\n",
            "  108 147 147 134 120 105 116 131 116 136 137 165 192 137 113 187  30   0   0   0   0   0   0   0   0   0 114 143 108 158 147 130 125 106 114\n",
            "  122 119 129 134 160 196 136 109 182  51   0   0   0   0   0   0   0   0   0 120 140 117 151 148 131 124 109 120 143 120 130 128 159 188 111\n",
            "  108 178  66   0   0   0   0   0   0   0   0   0 125 129 128 112 145 140 122 113 118 134 117 132 128 166 157  91 120 170  74   0   0   0   0\n",
            "    0   0   0   0   0 126 123 138  74 140 143 124 111 112 126 120 130 129 175 120  88 128 164  91   0   0   0   0   0   0   0   0   0 124 123\n",
            "  157  45 145 143 124 113 119 148 122 131 129 183  90  73 137 155  99   0   0   0   0   0   0   0   0   0 118 122 167   0 143 149 122 112 118\n",
            "  137 116 132 126 183  73  50 152 147 101   0   0   0   0   0   0   0   0   0 111 128 164   0 142 151 122 111 117 132 120 136 125 182  90  18\n",
            "  164 145 107   0   0   0   0   0   0   0   0   0 109 132 158   0 146 148 120 108 125 157 120 136 131 176 111   0 164 143 118   0   0   0   0\n",
            "    0   0   0   0   0 111 141 140   0 148 149 120 114 123 137 124 137 131 171 135   0 157 147 125   0   0   0   0   0   0   0   0   0 111 154\n",
            "  111   0 155 148 118 116 124 143 123 131 129 167 155   0 129 157 129   0   0   0   0   0   0   0   0   0 109 155  87   0 157 145 119 117 126\n",
            "  154 126 130 123 161 160   0  97 163 130   0   0   0   0   0   0   0   0   0 124 142  54   0 149 141 119 119 124 136 129 126 120 153 175   0\n",
            "   76 145 137   0   0   0   0   0   0   0   0   0 136 151  47   0 149 137 119 118 126 143 132 130 123 153 172   0  66 148 154   0   0   0   0\n",
            "    0   0   0   0   0 109 174  48   0 154 138 119 117 124 138 130 129 125 159 167   0  58 174 128   0   0   0   0   0   0   0   0   0   0   0\n",
            "    0   0  85 182 147 136 143 158 146 148 153 199  70   0   0   0   0   0   0   0   0   0   0   0   0   0   0   0   0   0   0  26  54  72  83\n",
            "   96  85  80  61  14   0   0   0   0   0   0   0   0   0]]\n"
          ]
        }
      ]
    },
    {
      "cell_type": "code",
      "source": [
        "train_images = train_images.astype('float32') / 255\n",
        "train_images, len(train_images), train_images.shape, train_images[3000]\n",
        "\n"
      ],
      "metadata": {
        "colab": {
          "base_uri": "https://localhost:8080/"
        },
        "id": "zopHA3UikGe4",
        "outputId": "80fd2499-5f53-45d7-9b71-b6dbc6e7069c"
      },
      "execution_count": 20,
      "outputs": [
        {
          "output_type": "execute_result",
          "data": {
            "text/plain": [
              "(array([[0., 0., 0., ..., 0., 0., 0.],\n",
              "        [0., 0., 0., ..., 0., 0., 0.],\n",
              "        [0., 0., 0., ..., 0., 0., 0.],\n",
              "        ...,\n",
              "        [0., 0., 0., ..., 0., 0., 0.],\n",
              "        [0., 0., 0., ..., 0., 0., 0.],\n",
              "        [0., 0., 0., ..., 0., 0., 0.]], dtype=float32),\n",
              " 60000,\n",
              " (60000, 784),\n",
              " array([0.  , 0.  , 0.  , 0.  , 0.  , 0.  , 0.  , 0.  , 0.  , 0.  , 0.  , 0.  , 0.47, 0.51, 0.36, 0.58, 0.12, 0.  , 0.  , 0.  , 0.  , 0.  , 0.  ,\n",
              "        0.  , 0.  , 0.  , 0.  , 0.  , 0.  , 0.  , 0.  , 0.  , 0.  , 0.  , 0.  , 0.01, 0.  , 0.  , 0.  , 0.  , 0.98, 0.78, 0.67, 0.76, 0.6 , 0.  ,\n",
              "        0.  , 0.  , 0.  , 0.01, 0.  , 0.  , 0.  , 0.  , 0.  , 0.  , 0.  , 0.  , 0.  , 0.  , 0.  , 0.  , 0.  , 0.  , 0.  , 0.17, 0.49, 0.76, 0.65,\n",
              "        0.94, 1.  , 0.85, 0.67, 0.89, 0.49, 0.24, 0.  , 0.  , 0.  , 0.  , 0.  , 0.  , 0.  , 0.  , 0.  , 0.  , 0.  , 0.  , 0.  , 0.  , 0.  , 0.38,\n",
              "        0.65, 0.61, 0.62, 0.67, 0.7 , 0.83, 0.84, 0.82, 0.77, 0.74, 0.62, 0.64, 0.62, 0.42, 0.  , 0.  , 0.  , 0.  , 0.  , 0.  , 0.  , 0.  , 0.  ,\n",
              "        0.  , 0.  , 0.  , 0.33, 0.62, 0.51, 0.46, 0.47, 0.58, 0.58, 0.57, 0.7 , 0.62, 0.68, 0.63, 0.48, 0.52, 0.56, 0.67, 0.15, 0.  , 0.  , 0.  ,\n",
              "        0.  , 0.  , 0.  , 0.  , 0.  , 0.  , 0.  , 0.  , 0.62, 0.5 , 0.46, 0.47, 0.48, 0.44, 0.36, 0.49, 0.63, 0.43, 0.5 , 0.5 , 0.51, 0.57, 0.54,\n",
              "        0.65, 0.48, 0.  , 0.  , 0.  , 0.  , 0.  , 0.  , 0.  , 0.  , 0.  , 0.  , 0.  , 0.67, 0.53, 0.47, 0.45, 0.46, 0.47, 0.42, 0.49, 0.48, 0.46,\n",
              "        0.49, 0.49, 0.47, 0.57, 0.58, 0.65, 0.58, 0.  , 0.  , 0.  , 0.  , 0.  , 0.  , 0.  , 0.  , 0.  , 0.  , 0.02, 0.67, 0.54, 0.49, 0.47, 0.46,\n",
              "        0.46, 0.4 , 0.48, 0.57, 0.44, 0.47, 0.48, 0.47, 0.6 , 0.6 , 0.61, 0.67, 0.  , 0.  , 0.  , 0.  , 0.  , 0.  , 0.  , 0.  , 0.  , 0.  , 0.12,\n",
              "        0.67, 0.51, 0.54, 0.49, 0.44, 0.42, 0.4 , 0.46, 0.54, 0.42, 0.53, 0.51, 0.62, 0.71, 0.54, 0.56, 0.73, 0.  , 0.  , 0.  , 0.  , 0.  , 0.  ,\n",
              "        0.  , 0.  , 0.  , 0.  , 0.23, 0.64, 0.45, 0.54, 0.56, 0.47, 0.4 , 0.39, 0.43, 0.46, 0.43, 0.51, 0.53, 0.67, 0.71, 0.51, 0.53, 0.75, 0.  ,\n",
              "        0.  , 0.  , 0.  , 0.  , 0.  , 0.  , 0.  , 0.  , 0.  , 0.3 , 0.63, 0.44, 0.55, 0.58, 0.5 , 0.44, 0.4 , 0.45, 0.54, 0.44, 0.51, 0.56, 0.65,\n",
              "        0.72, 0.53, 0.47, 0.73, 0.05, 0.  , 0.  , 0.  , 0.  , 0.  , 0.  , 0.  , 0.  , 0.  , 0.39, 0.58, 0.42, 0.58, 0.58, 0.53, 0.47, 0.41, 0.45,\n",
              "        0.51, 0.45, 0.53, 0.54, 0.65, 0.75, 0.54, 0.44, 0.73, 0.12, 0.  , 0.  , 0.  , 0.  , 0.  , 0.  , 0.  , 0.  , 0.  , 0.45, 0.56, 0.42, 0.62,\n",
              "        0.58, 0.51, 0.49, 0.42, 0.45, 0.48, 0.47, 0.51, 0.53, 0.63, 0.77, 0.53, 0.43, 0.71, 0.2 , 0.  , 0.  , 0.  , 0.  , 0.  , 0.  , 0.  , 0.  ,\n",
              "        0.  , 0.47, 0.55, 0.46, 0.59, 0.58, 0.51, 0.49, 0.43, 0.47, 0.56, 0.47, 0.51, 0.5 , 0.62, 0.74, 0.44, 0.42, 0.7 , 0.26, 0.  , 0.  , 0.  ,\n",
              "        0.  , 0.  , 0.  , 0.  , 0.  , 0.  , 0.49, 0.51, 0.5 , 0.44, 0.57, 0.55, 0.48, 0.44, 0.46, 0.53, 0.46, 0.52, 0.5 , 0.65, 0.62, 0.36, 0.47,\n",
              "        0.67, 0.29, 0.  , 0.  , 0.  , 0.  , 0.  , 0.  , 0.  , 0.  , 0.  , 0.49, 0.48, 0.54, 0.29, 0.55, 0.56, 0.49, 0.44, 0.44, 0.49, 0.47, 0.51,\n",
              "        0.51, 0.69, 0.47, 0.35, 0.5 , 0.64, 0.36, 0.  , 0.  , 0.  , 0.  , 0.  , 0.  , 0.  , 0.  , 0.  , 0.49, 0.48, 0.62, 0.18, 0.57, 0.56, 0.49,\n",
              "        0.44, 0.47, 0.58, 0.48, 0.51, 0.51, 0.72, 0.35, 0.29, 0.54, 0.61, 0.39, 0.  , 0.  , 0.  , 0.  , 0.  , 0.  , 0.  , 0.  , 0.  , 0.46, 0.48,\n",
              "        0.65, 0.  , 0.56, 0.58, 0.48, 0.44, 0.46, 0.54, 0.45, 0.52, 0.49, 0.72, 0.29, 0.2 , 0.6 , 0.58, 0.4 , 0.  , 0.  , 0.  , 0.  , 0.  , 0.  ,\n",
              "        0.  , 0.  , 0.  , 0.44, 0.5 , 0.64, 0.  , 0.56, 0.59, 0.48, 0.44, 0.46, 0.52, 0.47, 0.53, 0.49, 0.71, 0.35, 0.07, 0.64, 0.57, 0.42, 0.  ,\n",
              "        0.  , 0.  , 0.  , 0.  , 0.  , 0.  , 0.  , 0.  , 0.43, 0.52, 0.62, 0.  , 0.57, 0.58, 0.47, 0.42, 0.49, 0.62, 0.47, 0.53, 0.51, 0.69, 0.44,\n",
              "        0.  , 0.64, 0.56, 0.46, 0.  , 0.  , 0.  , 0.  , 0.  , 0.  , 0.  , 0.  , 0.  , 0.44, 0.55, 0.55, 0.  , 0.58, 0.58, 0.47, 0.45, 0.48, 0.54,\n",
              "        0.49, 0.54, 0.51, 0.67, 0.53, 0.  , 0.62, 0.58, 0.49, 0.  , 0.  , 0.  , 0.  , 0.  , 0.  , 0.  , 0.  , 0.  , 0.44, 0.6 , 0.44, 0.  , 0.61,\n",
              "        0.58, 0.46, 0.45, 0.49, 0.56, 0.48, 0.51, 0.51, 0.65, 0.61, 0.  , 0.51, 0.62, 0.51, 0.  , 0.  , 0.  , 0.  , 0.  , 0.  , 0.  , 0.  , 0.  ,\n",
              "        0.43, 0.61, 0.34, 0.  , 0.62, 0.57, 0.47, 0.46, 0.49, 0.6 , 0.49, 0.51, 0.48, 0.63, 0.63, 0.  , 0.38, 0.64, 0.51, 0.  , 0.  , 0.  , 0.  ,\n",
              "        0.  , 0.  , 0.  , 0.  , 0.  , 0.49, 0.56, 0.21, 0.  , 0.58, 0.55, 0.47, 0.47, 0.49, 0.53, 0.51, 0.49, 0.47, 0.6 , 0.69, 0.  , 0.3 , 0.57,\n",
              "        0.54, 0.  , 0.  , 0.  , 0.  , 0.  , 0.  , 0.  , 0.  , 0.  , 0.53, 0.59, 0.18, 0.  , 0.58, 0.54, 0.47, 0.46, 0.49, 0.56, 0.52, 0.51, 0.48,\n",
              "        0.6 , 0.67, 0.  , 0.26, 0.58, 0.6 , 0.  , 0.  , 0.  , 0.  , 0.  , 0.  , 0.  , 0.  , 0.  , 0.43, 0.68, 0.19, 0.  , 0.6 , 0.54, 0.47, 0.46,\n",
              "        0.49, 0.54, 0.51, 0.51, 0.49, 0.62, 0.65, 0.  , 0.23, 0.68, 0.5 , 0.  , 0.  , 0.  , 0.  , 0.  , 0.  , 0.  , 0.  , 0.  , 0.  , 0.  , 0.  ,\n",
              "        0.  , 0.33, 0.71, 0.58, 0.53, 0.56, 0.62, 0.57, 0.58, 0.6 , 0.78, 0.27, 0.  , 0.  , 0.  , 0.  , 0.  , 0.  , 0.  , 0.  , 0.  , 0.  , 0.  ,\n",
              "        0.  , 0.  , 0.  , 0.  , 0.  , 0.  , 0.  , 0.1 , 0.21, 0.28, 0.33, 0.38, 0.33, 0.31, 0.24, 0.05, 0.  , 0.  , 0.  , 0.  , 0.  , 0.  , 0.  ,\n",
              "        0.  , 0.  ], dtype=float32))"
            ]
          },
          "metadata": {},
          "execution_count": 20
        }
      ]
    },
    {
      "cell_type": "code",
      "source": [
        "# 6.- PREPARACIÓN LAS ETIQUETAS\n",
        "# from keras import utils\n",
        "# from keras.utils import to_categorical\n",
        "from keras.utils.np_utils import to_categorical\n",
        "\n",
        "train_labels = to_categorical(train_labels)\n",
        "test_labels = to_categorical(test_labels)\n",
        "train_labels[30000] # Posición 0 a 9 donde solo la 3 tiene probabilidad 1.\n",
        "# la imagen 30000 de entrenamiento es 3 (dress)"
      ],
      "metadata": {
        "colab": {
          "base_uri": "https://localhost:8080/"
        },
        "id": "DLa8YITmkTTc",
        "outputId": "301a230b-6af9-4e9f-cfa1-8e3eca2e5cae"
      },
      "execution_count": 21,
      "outputs": [
        {
          "output_type": "execute_result",
          "data": {
            "text/plain": [
              "array([0., 0., 0., 1., 0., 0., 0., 0., 0., 0.], dtype=float32)"
            ]
          },
          "metadata": {},
          "execution_count": 21
        }
      ]
    },
    {
      "cell_type": "code",
      "source": [
        "# 7.- ENTRENAMOS LA RED CON EL JUEGO DE DATOS DE ENTRENAMIENTO\n",
        "# * epochs: Épocas: un límite arbitrario, definido como\n",
        "# \"una pasada sobre todo el conjunto de datos\", que se utiliza para\n",
        "# separar el entrenamiento en distintas fases, que es útil para el\n",
        "# registro y la evaluación periódica. Como no hay initial_epoch, en\n",
        "# este caso va hasta la época 5 desde 1.\n",
        "# tamaño del lote\n",
        "# * batch_size: Entero o NULO. Número de muestras por actualización de gradiente.\n",
        "# Si no se especifica, batch_size se establecerá de forma predeterminada en 32.\n",
        "network.fit(train_images, train_labels, epochs=5, batch_size=128)\n",
        "# La red empezará a iterar por lo datos de entrenamiento en minilotes de 128\n",
        "# muestras, 5 veces (cada iteración por los datos de entrenamiento recibe el\n",
        "# nombre de \"repetición\"). En cada iteración, la red computará los gradientes de\n",
        "# los pesos en relación con la pérdida en el lote y ajustará los pesos en\n",
        "# consecuencia. Tras estas 5 repeticiones, la red habrá realizado 2.345 ajustes\n",
        "# de gradiente (469 por repetición), la pérdida será lo bastante baja como para\n",
        "# que la red sea capaz de clasificar números escritos a mano con gran exactitud."
      ],
      "metadata": {
        "colab": {
          "base_uri": "https://localhost:8080/"
        },
        "id": "kLqJVDK9ntyz",
        "outputId": "5fc48583-bacc-4bd6-b981-cf87f625b275"
      },
      "execution_count": 22,
      "outputs": [
        {
          "output_type": "stream",
          "name": "stdout",
          "text": [
            "Epoch 1/5\n",
            "469/469 [==============================] - 6s 12ms/step - loss: 0.9958 - accuracy: 0.7000\n",
            "Epoch 2/5\n",
            "469/469 [==============================] - 6s 13ms/step - loss: 0.6571 - accuracy: 0.7915\n",
            "Epoch 3/5\n",
            "469/469 [==============================] - 4s 9ms/step - loss: 0.5801 - accuracy: 0.8116\n",
            "Epoch 4/5\n",
            "469/469 [==============================] - 4s 9ms/step - loss: 0.5385 - accuracy: 0.8232\n",
            "Epoch 5/5\n",
            "469/469 [==============================] - 8s 17ms/step - loss: 0.5120 - accuracy: 0.8300\n"
          ]
        },
        {
          "output_type": "execute_result",
          "data": {
            "text/plain": [
              "<keras.callbacks.History at 0x7afa177da2c0>"
            ]
          },
          "metadata": {},
          "execution_count": 22
        }
      ]
    },
    {
      "cell_type": "code",
      "source": [
        "# 8.- VERIFICAMOS NUESTRO MODELO YA ENTRENADO, CONTRA EL CONJUNTO DE PRUEBAS\n",
        "test_loss, test_acc = network.evaluate(test_images, test_labels)\n"
      ],
      "metadata": {
        "colab": {
          "base_uri": "https://localhost:8080/"
        },
        "id": "bKgWVVMio9-1",
        "outputId": "b1e29c69-b3cc-4b17-e154-8ee6c2ea02fa"
      },
      "execution_count": 23,
      "outputs": [
        {
          "output_type": "stream",
          "name": "stdout",
          "text": [
            "313/313 [==============================] - 1s 3ms/step - loss: 68.5899 - accuracy: 0.7988\n"
          ]
        }
      ]
    },
    {
      "cell_type": "markdown",
      "source": [
        "6. Utilice el siguiente código para graficar cómo de bien o de mal se comporta el\n",
        "modelo para cada uno de los 8 casos"
      ],
      "metadata": {
        "id": "bcAsyXCXfOlb"
      }
    },
    {
      "cell_type": "code",
      "execution_count": null,
      "metadata": {
        "id": "Ir1FDBYx0XZz",
        "colab": {
          "base_uri": "https://localhost:8080/",
          "height": 144
        },
        "outputId": "a43047c3-aef0-4415-ea0c-f6ca259a38a0"
      },
      "outputs": [
        {
          "output_type": "error",
          "ename": "SyntaxError",
          "evalue": "ignored",
          "traceback": [
            "\u001b[0;36m  File \u001b[0;32m\"<ipython-input-34-7a5cafd6ae59>\"\u001b[0;36m, line \u001b[0;32m13\u001b[0m\n\u001b[0;31m    plt.xlabel(\"{} {:2.0f}% ({})\".format(class_names[predicted_label]\u001b[0m\n\u001b[0m                                         ^\u001b[0m\n\u001b[0;31mSyntaxError\u001b[0m\u001b[0;31m:\u001b[0m invalid syntax. Perhaps you forgot a comma?\n"
          ]
        }
      ],
      "source": [
        "def plot_image(i, predictions_array, true_label, img):\n",
        "  pedictions_array, true_label, img = predictions_array, true_label[i], img[i]\n",
        "  plt.grid(False)\n",
        "  plt.xticks([])\n",
        "  plt.ytickts([])\n",
        "\n",
        "  plt.imshow(img, camp=plt.cm.binary)\n",
        "  if predicted_label == true_label :\n",
        "    color = 'blue'\n",
        "  else :\n",
        "    color = 'red'\n",
        "\n",
        "  plt.xlabel(\"{} {:2.0f}% ({})\".format(class_names[predicted_label]\n",
        "                                     100*np.max(predictions_array)\n",
        "                                     class_names[true_label])\n",
        "                                     color = color)\n",
        "\n",
        "def plot_value_array(i, predictions_array, true_label):\n",
        "  predictions_array, true_label = predictions_array, true_label[i]\n",
        "  plt.grid(False)\n",
        "  plt.xticks(range(10))\n",
        "  plt.yticks([])\n",
        "  thisplot = plt.bar(range(10), predictions_array, color = \"#777777\")\n",
        "  plt.ylim([0 1])\n",
        "  predicted_label = np.argmax(predictions_array)\n",
        "\n",
        "  thisplot[predicted_label].set_color('red')\n",
        "  thisplot[true_label].setcolor('blue')\n",
        "\n"
      ]
    },
    {
      "cell_type": "markdown",
      "source": [
        "Ejemplo de uso para ver la predicción de la 6ª figura de las imágenes de test."
      ],
      "metadata": {
        "id": "E8a4Iv4HfqGi"
      }
    },
    {
      "cell_type": "code",
      "source": [
        "i = 0\n",
        "plt.figure(figsize = (6,3))\n",
        "plt.subplot(1,2,1)\n",
        "plot_image(i, predictions[i], test_labels, test_images)\n",
        "plot.subplot(1,2,2)\n",
        "plotvalue_array(i,predictions[i], test_labales)\n",
        "plt.show()\n"
      ],
      "metadata": {
        "colab": {
          "base_uri": "https://localhost:8080/",
          "height": 251
        },
        "id": "MsK84BxAflsO",
        "outputId": "1a96f722-ef81-4210-8068-02826718e5aa"
      },
      "execution_count": null,
      "outputs": [
        {
          "output_type": "error",
          "ename": "NameError",
          "evalue": "ignored",
          "traceback": [
            "\u001b[0;31m---------------------------------------------------------------------------\u001b[0m",
            "\u001b[0;31mNameError\u001b[0m                                 Traceback (most recent call last)",
            "\u001b[0;32m<ipython-input-3-4efd40ca0fb8>\u001b[0m in \u001b[0;36m<cell line: 2>\u001b[0;34m()\u001b[0m\n\u001b[1;32m      1\u001b[0m \u001b[0mi\u001b[0m \u001b[0;34m=\u001b[0m \u001b[0;36m0\u001b[0m\u001b[0;34m\u001b[0m\u001b[0;34m\u001b[0m\u001b[0m\n\u001b[0;32m----> 2\u001b[0;31m \u001b[0mplt\u001b[0m\u001b[0;34m.\u001b[0m\u001b[0mfigure\u001b[0m\u001b[0;34m(\u001b[0m\u001b[0mfigsize\u001b[0m \u001b[0;34m=\u001b[0m \u001b[0;34m(\u001b[0m\u001b[0;36m6\u001b[0m\u001b[0;34m,\u001b[0m\u001b[0;36m3\u001b[0m\u001b[0;34m)\u001b[0m\u001b[0;34m)\u001b[0m\u001b[0;34m\u001b[0m\u001b[0;34m\u001b[0m\u001b[0m\n\u001b[0m\u001b[1;32m      3\u001b[0m \u001b[0mplt\u001b[0m\u001b[0;34m.\u001b[0m\u001b[0msubplot\u001b[0m\u001b[0;34m(\u001b[0m\u001b[0;36m1\u001b[0m\u001b[0;34m,\u001b[0m\u001b[0;36m2\u001b[0m\u001b[0;34m,\u001b[0m\u001b[0;36m1\u001b[0m\u001b[0;34m)\u001b[0m\u001b[0;34m\u001b[0m\u001b[0;34m\u001b[0m\u001b[0m\n\u001b[1;32m      4\u001b[0m \u001b[0mplot_image\u001b[0m\u001b[0;34m(\u001b[0m\u001b[0mi\u001b[0m\u001b[0;34m,\u001b[0m \u001b[0mpredictions\u001b[0m\u001b[0;34m[\u001b[0m\u001b[0mi\u001b[0m\u001b[0;34m]\u001b[0m\u001b[0;34m,\u001b[0m \u001b[0mtest_labels\u001b[0m\u001b[0;34m,\u001b[0m \u001b[0mtest_images\u001b[0m\u001b[0;34m)\u001b[0m\u001b[0;34m\u001b[0m\u001b[0;34m\u001b[0m\u001b[0m\n\u001b[1;32m      5\u001b[0m \u001b[0mplot\u001b[0m\u001b[0;34m.\u001b[0m\u001b[0msubplot\u001b[0m\u001b[0;34m(\u001b[0m\u001b[0;36m1\u001b[0m\u001b[0;34m,\u001b[0m\u001b[0;36m2\u001b[0m\u001b[0;34m,\u001b[0m\u001b[0;36m2\u001b[0m\u001b[0;34m)\u001b[0m\u001b[0;34m\u001b[0m\u001b[0;34m\u001b[0m\u001b[0m\n",
            "\u001b[0;31mNameError\u001b[0m: name 'plt' is not defined"
          ]
        }
      ]
    }
  ]
}