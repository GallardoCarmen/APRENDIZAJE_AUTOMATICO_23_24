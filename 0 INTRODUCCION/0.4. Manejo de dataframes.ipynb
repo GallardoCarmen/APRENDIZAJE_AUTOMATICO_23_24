{
  "cells": [
    {
      "cell_type": "code",
      "execution_count": 11,
      "metadata": {
        "pycharm": {
          "name": "#%%\n"
        },
        "id": "FAqttWalJoUP"
      },
      "outputs": [],
      "source": [
        "import pandas as pd\n",
        "import numpy as np\n",
        "import matplotlib.pyplot as plt\n",
        "%matplotlib inline\n"
      ]
    },
    {
      "cell_type": "code",
      "execution_count": 14,
      "metadata": {
        "pycharm": {
          "name": "#%%\n"
        },
        "id": "c8DsEvziJoUP",
        "outputId": "f6a4d7c4-ec4b-4260-bbd8-6ea9290a8028",
        "colab": {
          "base_uri": "https://localhost:8080/",
          "height": 206
        }
      },
      "outputs": [
        {
          "output_type": "execute_result",
          "data": {
            "text/plain": [
              "  Este dataset pertenece a una estación ubicada en Burgos (España).;;;;;;;;;;;;;;\n",
              "0  Los datos recogidos son desde el 25/07/2000 ha...                             \n",
              "1  IdProvincia;IdEstacion;Fecha;Año;Dia;Temp Medi...                             \n",
              "2  9;3;25/07/2000;2000;207;16.93;23.15;17:29;11.3...                             \n",
              "3                                     ;;;;;;;;;;;;;;                             \n",
              "4                                     ;;;;;;;;;;;;;;                             "
            ],
            "text/html": [
              "\n",
              "  <div id=\"df-2589b6ba-6365-4a83-85e5-4c41c006643e\" class=\"colab-df-container\">\n",
              "    <div>\n",
              "<style scoped>\n",
              "    .dataframe tbody tr th:only-of-type {\n",
              "        vertical-align: middle;\n",
              "    }\n",
              "\n",
              "    .dataframe tbody tr th {\n",
              "        vertical-align: top;\n",
              "    }\n",
              "\n",
              "    .dataframe thead th {\n",
              "        text-align: right;\n",
              "    }\n",
              "</style>\n",
              "<table border=\"1\" class=\"dataframe\">\n",
              "  <thead>\n",
              "    <tr style=\"text-align: right;\">\n",
              "      <th></th>\n",
              "      <th>Este dataset pertenece a una estación ubicada en Burgos (España).;;;;;;;;;;;;;;</th>\n",
              "    </tr>\n",
              "  </thead>\n",
              "  <tbody>\n",
              "    <tr>\n",
              "      <th>0</th>\n",
              "      <td>Los datos recogidos son desde el 25/07/2000 ha...</td>\n",
              "    </tr>\n",
              "    <tr>\n",
              "      <th>1</th>\n",
              "      <td>IdProvincia;IdEstacion;Fecha;Año;Dia;Temp Medi...</td>\n",
              "    </tr>\n",
              "    <tr>\n",
              "      <th>2</th>\n",
              "      <td>9;3;25/07/2000;2000;207;16.93;23.15;17:29;11.3...</td>\n",
              "    </tr>\n",
              "    <tr>\n",
              "      <th>3</th>\n",
              "      <td>;;;;;;;;;;;;;;</td>\n",
              "    </tr>\n",
              "    <tr>\n",
              "      <th>4</th>\n",
              "      <td>;;;;;;;;;;;;;;</td>\n",
              "    </tr>\n",
              "  </tbody>\n",
              "</table>\n",
              "</div>\n",
              "    <div class=\"colab-df-buttons\">\n",
              "\n",
              "  <div class=\"colab-df-container\">\n",
              "    <button class=\"colab-df-convert\" onclick=\"convertToInteractive('df-2589b6ba-6365-4a83-85e5-4c41c006643e')\"\n",
              "            title=\"Convert this dataframe to an interactive table.\"\n",
              "            style=\"display:none;\">\n",
              "\n",
              "  <svg xmlns=\"http://www.w3.org/2000/svg\" height=\"24px\" viewBox=\"0 -960 960 960\">\n",
              "    <path d=\"M120-120v-720h720v720H120Zm60-500h600v-160H180v160Zm220 220h160v-160H400v160Zm0 220h160v-160H400v160ZM180-400h160v-160H180v160Zm440 0h160v-160H620v160ZM180-180h160v-160H180v160Zm440 0h160v-160H620v160Z\"/>\n",
              "  </svg>\n",
              "    </button>\n",
              "\n",
              "  <style>\n",
              "    .colab-df-container {\n",
              "      display:flex;\n",
              "      gap: 12px;\n",
              "    }\n",
              "\n",
              "    .colab-df-convert {\n",
              "      background-color: #E8F0FE;\n",
              "      border: none;\n",
              "      border-radius: 50%;\n",
              "      cursor: pointer;\n",
              "      display: none;\n",
              "      fill: #1967D2;\n",
              "      height: 32px;\n",
              "      padding: 0 0 0 0;\n",
              "      width: 32px;\n",
              "    }\n",
              "\n",
              "    .colab-df-convert:hover {\n",
              "      background-color: #E2EBFA;\n",
              "      box-shadow: 0px 1px 2px rgba(60, 64, 67, 0.3), 0px 1px 3px 1px rgba(60, 64, 67, 0.15);\n",
              "      fill: #174EA6;\n",
              "    }\n",
              "\n",
              "    .colab-df-buttons div {\n",
              "      margin-bottom: 4px;\n",
              "    }\n",
              "\n",
              "    [theme=dark] .colab-df-convert {\n",
              "      background-color: #3B4455;\n",
              "      fill: #D2E3FC;\n",
              "    }\n",
              "\n",
              "    [theme=dark] .colab-df-convert:hover {\n",
              "      background-color: #434B5C;\n",
              "      box-shadow: 0px 1px 3px 1px rgba(0, 0, 0, 0.15);\n",
              "      filter: drop-shadow(0px 1px 2px rgba(0, 0, 0, 0.3));\n",
              "      fill: #FFFFFF;\n",
              "    }\n",
              "  </style>\n",
              "\n",
              "    <script>\n",
              "      const buttonEl =\n",
              "        document.querySelector('#df-2589b6ba-6365-4a83-85e5-4c41c006643e button.colab-df-convert');\n",
              "      buttonEl.style.display =\n",
              "        google.colab.kernel.accessAllowed ? 'block' : 'none';\n",
              "\n",
              "      async function convertToInteractive(key) {\n",
              "        const element = document.querySelector('#df-2589b6ba-6365-4a83-85e5-4c41c006643e');\n",
              "        const dataTable =\n",
              "          await google.colab.kernel.invokeFunction('convertToInteractive',\n",
              "                                                    [key], {});\n",
              "        if (!dataTable) return;\n",
              "\n",
              "        const docLinkHtml = 'Like what you see? Visit the ' +\n",
              "          '<a target=\"_blank\" href=https://colab.research.google.com/notebooks/data_table.ipynb>data table notebook</a>'\n",
              "          + ' to learn more about interactive tables.';\n",
              "        element.innerHTML = '';\n",
              "        dataTable['output_type'] = 'display_data';\n",
              "        await google.colab.output.renderOutput(dataTable, element);\n",
              "        const docLink = document.createElement('div');\n",
              "        docLink.innerHTML = docLinkHtml;\n",
              "        element.appendChild(docLink);\n",
              "      }\n",
              "    </script>\n",
              "  </div>\n",
              "\n",
              "\n",
              "<div id=\"df-b46858a1-5566-4b8c-818c-a6c6e261f155\">\n",
              "  <button class=\"colab-df-quickchart\" onclick=\"quickchart('df-b46858a1-5566-4b8c-818c-a6c6e261f155')\"\n",
              "            title=\"Suggest charts.\"\n",
              "            style=\"display:none;\">\n",
              "\n",
              "<svg xmlns=\"http://www.w3.org/2000/svg\" height=\"24px\"viewBox=\"0 0 24 24\"\n",
              "     width=\"24px\">\n",
              "    <g>\n",
              "        <path d=\"M19 3H5c-1.1 0-2 .9-2 2v14c0 1.1.9 2 2 2h14c1.1 0 2-.9 2-2V5c0-1.1-.9-2-2-2zM9 17H7v-7h2v7zm4 0h-2V7h2v10zm4 0h-2v-4h2v4z\"/>\n",
              "    </g>\n",
              "</svg>\n",
              "  </button>\n",
              "\n",
              "<style>\n",
              "  .colab-df-quickchart {\n",
              "      --bg-color: #E8F0FE;\n",
              "      --fill-color: #1967D2;\n",
              "      --hover-bg-color: #E2EBFA;\n",
              "      --hover-fill-color: #174EA6;\n",
              "      --disabled-fill-color: #AAA;\n",
              "      --disabled-bg-color: #DDD;\n",
              "  }\n",
              "\n",
              "  [theme=dark] .colab-df-quickchart {\n",
              "      --bg-color: #3B4455;\n",
              "      --fill-color: #D2E3FC;\n",
              "      --hover-bg-color: #434B5C;\n",
              "      --hover-fill-color: #FFFFFF;\n",
              "      --disabled-bg-color: #3B4455;\n",
              "      --disabled-fill-color: #666;\n",
              "  }\n",
              "\n",
              "  .colab-df-quickchart {\n",
              "    background-color: var(--bg-color);\n",
              "    border: none;\n",
              "    border-radius: 50%;\n",
              "    cursor: pointer;\n",
              "    display: none;\n",
              "    fill: var(--fill-color);\n",
              "    height: 32px;\n",
              "    padding: 0;\n",
              "    width: 32px;\n",
              "  }\n",
              "\n",
              "  .colab-df-quickchart:hover {\n",
              "    background-color: var(--hover-bg-color);\n",
              "    box-shadow: 0 1px 2px rgba(60, 64, 67, 0.3), 0 1px 3px 1px rgba(60, 64, 67, 0.15);\n",
              "    fill: var(--button-hover-fill-color);\n",
              "  }\n",
              "\n",
              "  .colab-df-quickchart-complete:disabled,\n",
              "  .colab-df-quickchart-complete:disabled:hover {\n",
              "    background-color: var(--disabled-bg-color);\n",
              "    fill: var(--disabled-fill-color);\n",
              "    box-shadow: none;\n",
              "  }\n",
              "\n",
              "  .colab-df-spinner {\n",
              "    border: 2px solid var(--fill-color);\n",
              "    border-color: transparent;\n",
              "    border-bottom-color: var(--fill-color);\n",
              "    animation:\n",
              "      spin 1s steps(1) infinite;\n",
              "  }\n",
              "\n",
              "  @keyframes spin {\n",
              "    0% {\n",
              "      border-color: transparent;\n",
              "      border-bottom-color: var(--fill-color);\n",
              "      border-left-color: var(--fill-color);\n",
              "    }\n",
              "    20% {\n",
              "      border-color: transparent;\n",
              "      border-left-color: var(--fill-color);\n",
              "      border-top-color: var(--fill-color);\n",
              "    }\n",
              "    30% {\n",
              "      border-color: transparent;\n",
              "      border-left-color: var(--fill-color);\n",
              "      border-top-color: var(--fill-color);\n",
              "      border-right-color: var(--fill-color);\n",
              "    }\n",
              "    40% {\n",
              "      border-color: transparent;\n",
              "      border-right-color: var(--fill-color);\n",
              "      border-top-color: var(--fill-color);\n",
              "    }\n",
              "    60% {\n",
              "      border-color: transparent;\n",
              "      border-right-color: var(--fill-color);\n",
              "    }\n",
              "    80% {\n",
              "      border-color: transparent;\n",
              "      border-right-color: var(--fill-color);\n",
              "      border-bottom-color: var(--fill-color);\n",
              "    }\n",
              "    90% {\n",
              "      border-color: transparent;\n",
              "      border-bottom-color: var(--fill-color);\n",
              "    }\n",
              "  }\n",
              "</style>\n",
              "\n",
              "  <script>\n",
              "    async function quickchart(key) {\n",
              "      const quickchartButtonEl =\n",
              "        document.querySelector('#' + key + ' button');\n",
              "      quickchartButtonEl.disabled = true;  // To prevent multiple clicks.\n",
              "      quickchartButtonEl.classList.add('colab-df-spinner');\n",
              "      try {\n",
              "        const charts = await google.colab.kernel.invokeFunction(\n",
              "            'suggestCharts', [key], {});\n",
              "      } catch (error) {\n",
              "        console.error('Error during call to suggestCharts:', error);\n",
              "      }\n",
              "      quickchartButtonEl.classList.remove('colab-df-spinner');\n",
              "      quickchartButtonEl.classList.add('colab-df-quickchart-complete');\n",
              "    }\n",
              "    (() => {\n",
              "      let quickchartButtonEl =\n",
              "        document.querySelector('#df-b46858a1-5566-4b8c-818c-a6c6e261f155 button');\n",
              "      quickchartButtonEl.style.display =\n",
              "        google.colab.kernel.accessAllowed ? 'block' : 'none';\n",
              "    })();\n",
              "  </script>\n",
              "</div>\n",
              "    </div>\n",
              "  </div>\n"
            ]
          },
          "metadata": {},
          "execution_count": 14
        }
      ],
      "source": [
        "estacion = pd.read_csv('APRENDIZAJE_AUTOMATICO_23_24/0 INTRODUCCION/estacion.csv', encoding='latin-1')\n",
        "estacion.head()"
      ]
    },
    {
      "cell_type": "markdown",
      "metadata": {
        "pycharm": {
          "name": "#%% md\n"
        },
        "id": "yb7nueDKJoUQ"
      },
      "source": [
        "### Cargar el archivo con el encoding adecuado, separador, header requerido etc."
      ]
    },
    {
      "cell_type": "code",
      "execution_count": 16,
      "metadata": {
        "pycharm": {
          "name": "#%%\n"
        },
        "id": "4Va0SO1cJoUQ",
        "outputId": "14717433-91ee-4825-ff39-173433c5147e",
        "colab": {
          "base_uri": "https://localhost:8080/",
          "height": 380
        }
      },
      "outputs": [
        {
          "output_type": "execute_result",
          "data": {
            "text/plain": [
              "            0           1           2     3    4                5   \\\n",
              "0  IdProvincia  IdEstacion       Fecha   Año  Dia  Temp Media (ºC)   \n",
              "1            9           3  25/07/2000  2000  207            16.93   \n",
              "2          NaN         NaN         NaN   NaN  NaN              NaN   \n",
              "3          NaN         NaN         NaN   NaN  NaN              NaN   \n",
              "4            9           3  26/07/2000  2000  208            16.35   \n",
              "5            9           3  27/07/2000  2000  209            19.15   \n",
              "6            9           3  27/07/2000  2000  209            19.15   \n",
              "7            9           3  27/07/2000  2000  209            19.15   \n",
              "8            9           3  27/07/2000  2000  209            19.15   \n",
              "9            9           3  27/07/2000  2000  209            19.15   \n",
              "\n",
              "              6              7                 8              9   \\\n",
              "0  Temp Max (ºC)  Hora Temp Max  Temp Mínima (ºC)  Hora Temp Min   \n",
              "1          23.15          17:29             11.34          23:07   \n",
              "2            NaN            NaN               NaN            NaN   \n",
              "3            NaN            NaN               NaN            NaN   \n",
              "4          24.74          16:31             10.19           3:37   \n",
              "5           29.8          16:05              8.52           6:18   \n",
              "6           29.8          16:05              8.52           6:18   \n",
              "7           29.8          16:05              8.52           6:18   \n",
              "8           29.8          16:05              8.52           6:18   \n",
              "9           29.8          16:05              8.52           6:18   \n",
              "\n",
              "                  10               11            12               13  \\\n",
              "0  Humedad Media (%)  Humedad Max (%)  Hora Hum Max  Humedad Min (%)   \n",
              "1              61.08             91.6         23:48            39.63   \n",
              "2                NaN              NaN           NaN              NaN   \n",
              "3                NaN              NaN           NaN              NaN   \n",
              "4              68.07             94.1         22:54            31.21   \n",
              "5              60.81             96.9          6:52            18.87   \n",
              "6              60.81             96.9          6:52            18.87   \n",
              "7              60.81             96.9          6:52            18.87   \n",
              "8              60.81             96.9          6:52            18.87   \n",
              "9              60.81             96.9          6:52            18.87   \n",
              "\n",
              "             14  \n",
              "0  Hora Hum Mín  \n",
              "1         17:07  \n",
              "2           NaN  \n",
              "3           NaN  \n",
              "4         16:35  \n",
              "5         16:02  \n",
              "6         16:02  \n",
              "7         16:02  \n",
              "8         16:02  \n",
              "9         16:02  "
            ],
            "text/html": [
              "\n",
              "  <div id=\"df-53650878-bd96-4435-8e5c-2a7e11594f58\" class=\"colab-df-container\">\n",
              "    <div>\n",
              "<style scoped>\n",
              "    .dataframe tbody tr th:only-of-type {\n",
              "        vertical-align: middle;\n",
              "    }\n",
              "\n",
              "    .dataframe tbody tr th {\n",
              "        vertical-align: top;\n",
              "    }\n",
              "\n",
              "    .dataframe thead th {\n",
              "        text-align: right;\n",
              "    }\n",
              "</style>\n",
              "<table border=\"1\" class=\"dataframe\">\n",
              "  <thead>\n",
              "    <tr style=\"text-align: right;\">\n",
              "      <th></th>\n",
              "      <th>0</th>\n",
              "      <th>1</th>\n",
              "      <th>2</th>\n",
              "      <th>3</th>\n",
              "      <th>4</th>\n",
              "      <th>5</th>\n",
              "      <th>6</th>\n",
              "      <th>7</th>\n",
              "      <th>8</th>\n",
              "      <th>9</th>\n",
              "      <th>10</th>\n",
              "      <th>11</th>\n",
              "      <th>12</th>\n",
              "      <th>13</th>\n",
              "      <th>14</th>\n",
              "    </tr>\n",
              "  </thead>\n",
              "  <tbody>\n",
              "    <tr>\n",
              "      <th>0</th>\n",
              "      <td>IdProvincia</td>\n",
              "      <td>IdEstacion</td>\n",
              "      <td>Fecha</td>\n",
              "      <td>Año</td>\n",
              "      <td>Dia</td>\n",
              "      <td>Temp Media (ºC)</td>\n",
              "      <td>Temp Max (ºC)</td>\n",
              "      <td>Hora Temp Max</td>\n",
              "      <td>Temp Mínima (ºC)</td>\n",
              "      <td>Hora Temp Min</td>\n",
              "      <td>Humedad Media (%)</td>\n",
              "      <td>Humedad Max (%)</td>\n",
              "      <td>Hora Hum Max</td>\n",
              "      <td>Humedad Min (%)</td>\n",
              "      <td>Hora Hum Mín</td>\n",
              "    </tr>\n",
              "    <tr>\n",
              "      <th>1</th>\n",
              "      <td>9</td>\n",
              "      <td>3</td>\n",
              "      <td>25/07/2000</td>\n",
              "      <td>2000</td>\n",
              "      <td>207</td>\n",
              "      <td>16.93</td>\n",
              "      <td>23.15</td>\n",
              "      <td>17:29</td>\n",
              "      <td>11.34</td>\n",
              "      <td>23:07</td>\n",
              "      <td>61.08</td>\n",
              "      <td>91.6</td>\n",
              "      <td>23:48</td>\n",
              "      <td>39.63</td>\n",
              "      <td>17:07</td>\n",
              "    </tr>\n",
              "    <tr>\n",
              "      <th>2</th>\n",
              "      <td>NaN</td>\n",
              "      <td>NaN</td>\n",
              "      <td>NaN</td>\n",
              "      <td>NaN</td>\n",
              "      <td>NaN</td>\n",
              "      <td>NaN</td>\n",
              "      <td>NaN</td>\n",
              "      <td>NaN</td>\n",
              "      <td>NaN</td>\n",
              "      <td>NaN</td>\n",
              "      <td>NaN</td>\n",
              "      <td>NaN</td>\n",
              "      <td>NaN</td>\n",
              "      <td>NaN</td>\n",
              "      <td>NaN</td>\n",
              "    </tr>\n",
              "    <tr>\n",
              "      <th>3</th>\n",
              "      <td>NaN</td>\n",
              "      <td>NaN</td>\n",
              "      <td>NaN</td>\n",
              "      <td>NaN</td>\n",
              "      <td>NaN</td>\n",
              "      <td>NaN</td>\n",
              "      <td>NaN</td>\n",
              "      <td>NaN</td>\n",
              "      <td>NaN</td>\n",
              "      <td>NaN</td>\n",
              "      <td>NaN</td>\n",
              "      <td>NaN</td>\n",
              "      <td>NaN</td>\n",
              "      <td>NaN</td>\n",
              "      <td>NaN</td>\n",
              "    </tr>\n",
              "    <tr>\n",
              "      <th>4</th>\n",
              "      <td>9</td>\n",
              "      <td>3</td>\n",
              "      <td>26/07/2000</td>\n",
              "      <td>2000</td>\n",
              "      <td>208</td>\n",
              "      <td>16.35</td>\n",
              "      <td>24.74</td>\n",
              "      <td>16:31</td>\n",
              "      <td>10.19</td>\n",
              "      <td>3:37</td>\n",
              "      <td>68.07</td>\n",
              "      <td>94.1</td>\n",
              "      <td>22:54</td>\n",
              "      <td>31.21</td>\n",
              "      <td>16:35</td>\n",
              "    </tr>\n",
              "    <tr>\n",
              "      <th>5</th>\n",
              "      <td>9</td>\n",
              "      <td>3</td>\n",
              "      <td>27/07/2000</td>\n",
              "      <td>2000</td>\n",
              "      <td>209</td>\n",
              "      <td>19.15</td>\n",
              "      <td>29.8</td>\n",
              "      <td>16:05</td>\n",
              "      <td>8.52</td>\n",
              "      <td>6:18</td>\n",
              "      <td>60.81</td>\n",
              "      <td>96.9</td>\n",
              "      <td>6:52</td>\n",
              "      <td>18.87</td>\n",
              "      <td>16:02</td>\n",
              "    </tr>\n",
              "    <tr>\n",
              "      <th>6</th>\n",
              "      <td>9</td>\n",
              "      <td>3</td>\n",
              "      <td>27/07/2000</td>\n",
              "      <td>2000</td>\n",
              "      <td>209</td>\n",
              "      <td>19.15</td>\n",
              "      <td>29.8</td>\n",
              "      <td>16:05</td>\n",
              "      <td>8.52</td>\n",
              "      <td>6:18</td>\n",
              "      <td>60.81</td>\n",
              "      <td>96.9</td>\n",
              "      <td>6:52</td>\n",
              "      <td>18.87</td>\n",
              "      <td>16:02</td>\n",
              "    </tr>\n",
              "    <tr>\n",
              "      <th>7</th>\n",
              "      <td>9</td>\n",
              "      <td>3</td>\n",
              "      <td>27/07/2000</td>\n",
              "      <td>2000</td>\n",
              "      <td>209</td>\n",
              "      <td>19.15</td>\n",
              "      <td>29.8</td>\n",
              "      <td>16:05</td>\n",
              "      <td>8.52</td>\n",
              "      <td>6:18</td>\n",
              "      <td>60.81</td>\n",
              "      <td>96.9</td>\n",
              "      <td>6:52</td>\n",
              "      <td>18.87</td>\n",
              "      <td>16:02</td>\n",
              "    </tr>\n",
              "    <tr>\n",
              "      <th>8</th>\n",
              "      <td>9</td>\n",
              "      <td>3</td>\n",
              "      <td>27/07/2000</td>\n",
              "      <td>2000</td>\n",
              "      <td>209</td>\n",
              "      <td>19.15</td>\n",
              "      <td>29.8</td>\n",
              "      <td>16:05</td>\n",
              "      <td>8.52</td>\n",
              "      <td>6:18</td>\n",
              "      <td>60.81</td>\n",
              "      <td>96.9</td>\n",
              "      <td>6:52</td>\n",
              "      <td>18.87</td>\n",
              "      <td>16:02</td>\n",
              "    </tr>\n",
              "    <tr>\n",
              "      <th>9</th>\n",
              "      <td>9</td>\n",
              "      <td>3</td>\n",
              "      <td>27/07/2000</td>\n",
              "      <td>2000</td>\n",
              "      <td>209</td>\n",
              "      <td>19.15</td>\n",
              "      <td>29.8</td>\n",
              "      <td>16:05</td>\n",
              "      <td>8.52</td>\n",
              "      <td>6:18</td>\n",
              "      <td>60.81</td>\n",
              "      <td>96.9</td>\n",
              "      <td>6:52</td>\n",
              "      <td>18.87</td>\n",
              "      <td>16:02</td>\n",
              "    </tr>\n",
              "  </tbody>\n",
              "</table>\n",
              "</div>\n",
              "    <div class=\"colab-df-buttons\">\n",
              "\n",
              "  <div class=\"colab-df-container\">\n",
              "    <button class=\"colab-df-convert\" onclick=\"convertToInteractive('df-53650878-bd96-4435-8e5c-2a7e11594f58')\"\n",
              "            title=\"Convert this dataframe to an interactive table.\"\n",
              "            style=\"display:none;\">\n",
              "\n",
              "  <svg xmlns=\"http://www.w3.org/2000/svg\" height=\"24px\" viewBox=\"0 -960 960 960\">\n",
              "    <path d=\"M120-120v-720h720v720H120Zm60-500h600v-160H180v160Zm220 220h160v-160H400v160Zm0 220h160v-160H400v160ZM180-400h160v-160H180v160Zm440 0h160v-160H620v160ZM180-180h160v-160H180v160Zm440 0h160v-160H620v160Z\"/>\n",
              "  </svg>\n",
              "    </button>\n",
              "\n",
              "  <style>\n",
              "    .colab-df-container {\n",
              "      display:flex;\n",
              "      gap: 12px;\n",
              "    }\n",
              "\n",
              "    .colab-df-convert {\n",
              "      background-color: #E8F0FE;\n",
              "      border: none;\n",
              "      border-radius: 50%;\n",
              "      cursor: pointer;\n",
              "      display: none;\n",
              "      fill: #1967D2;\n",
              "      height: 32px;\n",
              "      padding: 0 0 0 0;\n",
              "      width: 32px;\n",
              "    }\n",
              "\n",
              "    .colab-df-convert:hover {\n",
              "      background-color: #E2EBFA;\n",
              "      box-shadow: 0px 1px 2px rgba(60, 64, 67, 0.3), 0px 1px 3px 1px rgba(60, 64, 67, 0.15);\n",
              "      fill: #174EA6;\n",
              "    }\n",
              "\n",
              "    .colab-df-buttons div {\n",
              "      margin-bottom: 4px;\n",
              "    }\n",
              "\n",
              "    [theme=dark] .colab-df-convert {\n",
              "      background-color: #3B4455;\n",
              "      fill: #D2E3FC;\n",
              "    }\n",
              "\n",
              "    [theme=dark] .colab-df-convert:hover {\n",
              "      background-color: #434B5C;\n",
              "      box-shadow: 0px 1px 3px 1px rgba(0, 0, 0, 0.15);\n",
              "      filter: drop-shadow(0px 1px 2px rgba(0, 0, 0, 0.3));\n",
              "      fill: #FFFFFF;\n",
              "    }\n",
              "  </style>\n",
              "\n",
              "    <script>\n",
              "      const buttonEl =\n",
              "        document.querySelector('#df-53650878-bd96-4435-8e5c-2a7e11594f58 button.colab-df-convert');\n",
              "      buttonEl.style.display =\n",
              "        google.colab.kernel.accessAllowed ? 'block' : 'none';\n",
              "\n",
              "      async function convertToInteractive(key) {\n",
              "        const element = document.querySelector('#df-53650878-bd96-4435-8e5c-2a7e11594f58');\n",
              "        const dataTable =\n",
              "          await google.colab.kernel.invokeFunction('convertToInteractive',\n",
              "                                                    [key], {});\n",
              "        if (!dataTable) return;\n",
              "\n",
              "        const docLinkHtml = 'Like what you see? Visit the ' +\n",
              "          '<a target=\"_blank\" href=https://colab.research.google.com/notebooks/data_table.ipynb>data table notebook</a>'\n",
              "          + ' to learn more about interactive tables.';\n",
              "        element.innerHTML = '';\n",
              "        dataTable['output_type'] = 'display_data';\n",
              "        await google.colab.output.renderOutput(dataTable, element);\n",
              "        const docLink = document.createElement('div');\n",
              "        docLink.innerHTML = docLinkHtml;\n",
              "        element.appendChild(docLink);\n",
              "      }\n",
              "    </script>\n",
              "  </div>\n",
              "\n",
              "\n",
              "<div id=\"df-0df9465a-ef3a-4769-bf5d-2ad35ec2efcf\">\n",
              "  <button class=\"colab-df-quickchart\" onclick=\"quickchart('df-0df9465a-ef3a-4769-bf5d-2ad35ec2efcf')\"\n",
              "            title=\"Suggest charts.\"\n",
              "            style=\"display:none;\">\n",
              "\n",
              "<svg xmlns=\"http://www.w3.org/2000/svg\" height=\"24px\"viewBox=\"0 0 24 24\"\n",
              "     width=\"24px\">\n",
              "    <g>\n",
              "        <path d=\"M19 3H5c-1.1 0-2 .9-2 2v14c0 1.1.9 2 2 2h14c1.1 0 2-.9 2-2V5c0-1.1-.9-2-2-2zM9 17H7v-7h2v7zm4 0h-2V7h2v10zm4 0h-2v-4h2v4z\"/>\n",
              "    </g>\n",
              "</svg>\n",
              "  </button>\n",
              "\n",
              "<style>\n",
              "  .colab-df-quickchart {\n",
              "      --bg-color: #E8F0FE;\n",
              "      --fill-color: #1967D2;\n",
              "      --hover-bg-color: #E2EBFA;\n",
              "      --hover-fill-color: #174EA6;\n",
              "      --disabled-fill-color: #AAA;\n",
              "      --disabled-bg-color: #DDD;\n",
              "  }\n",
              "\n",
              "  [theme=dark] .colab-df-quickchart {\n",
              "      --bg-color: #3B4455;\n",
              "      --fill-color: #D2E3FC;\n",
              "      --hover-bg-color: #434B5C;\n",
              "      --hover-fill-color: #FFFFFF;\n",
              "      --disabled-bg-color: #3B4455;\n",
              "      --disabled-fill-color: #666;\n",
              "  }\n",
              "\n",
              "  .colab-df-quickchart {\n",
              "    background-color: var(--bg-color);\n",
              "    border: none;\n",
              "    border-radius: 50%;\n",
              "    cursor: pointer;\n",
              "    display: none;\n",
              "    fill: var(--fill-color);\n",
              "    height: 32px;\n",
              "    padding: 0;\n",
              "    width: 32px;\n",
              "  }\n",
              "\n",
              "  .colab-df-quickchart:hover {\n",
              "    background-color: var(--hover-bg-color);\n",
              "    box-shadow: 0 1px 2px rgba(60, 64, 67, 0.3), 0 1px 3px 1px rgba(60, 64, 67, 0.15);\n",
              "    fill: var(--button-hover-fill-color);\n",
              "  }\n",
              "\n",
              "  .colab-df-quickchart-complete:disabled,\n",
              "  .colab-df-quickchart-complete:disabled:hover {\n",
              "    background-color: var(--disabled-bg-color);\n",
              "    fill: var(--disabled-fill-color);\n",
              "    box-shadow: none;\n",
              "  }\n",
              "\n",
              "  .colab-df-spinner {\n",
              "    border: 2px solid var(--fill-color);\n",
              "    border-color: transparent;\n",
              "    border-bottom-color: var(--fill-color);\n",
              "    animation:\n",
              "      spin 1s steps(1) infinite;\n",
              "  }\n",
              "\n",
              "  @keyframes spin {\n",
              "    0% {\n",
              "      border-color: transparent;\n",
              "      border-bottom-color: var(--fill-color);\n",
              "      border-left-color: var(--fill-color);\n",
              "    }\n",
              "    20% {\n",
              "      border-color: transparent;\n",
              "      border-left-color: var(--fill-color);\n",
              "      border-top-color: var(--fill-color);\n",
              "    }\n",
              "    30% {\n",
              "      border-color: transparent;\n",
              "      border-left-color: var(--fill-color);\n",
              "      border-top-color: var(--fill-color);\n",
              "      border-right-color: var(--fill-color);\n",
              "    }\n",
              "    40% {\n",
              "      border-color: transparent;\n",
              "      border-right-color: var(--fill-color);\n",
              "      border-top-color: var(--fill-color);\n",
              "    }\n",
              "    60% {\n",
              "      border-color: transparent;\n",
              "      border-right-color: var(--fill-color);\n",
              "    }\n",
              "    80% {\n",
              "      border-color: transparent;\n",
              "      border-right-color: var(--fill-color);\n",
              "      border-bottom-color: var(--fill-color);\n",
              "    }\n",
              "    90% {\n",
              "      border-color: transparent;\n",
              "      border-bottom-color: var(--fill-color);\n",
              "    }\n",
              "  }\n",
              "</style>\n",
              "\n",
              "  <script>\n",
              "    async function quickchart(key) {\n",
              "      const quickchartButtonEl =\n",
              "        document.querySelector('#' + key + ' button');\n",
              "      quickchartButtonEl.disabled = true;  // To prevent multiple clicks.\n",
              "      quickchartButtonEl.classList.add('colab-df-spinner');\n",
              "      try {\n",
              "        const charts = await google.colab.kernel.invokeFunction(\n",
              "            'suggestCharts', [key], {});\n",
              "      } catch (error) {\n",
              "        console.error('Error during call to suggestCharts:', error);\n",
              "      }\n",
              "      quickchartButtonEl.classList.remove('colab-df-spinner');\n",
              "      quickchartButtonEl.classList.add('colab-df-quickchart-complete');\n",
              "    }\n",
              "    (() => {\n",
              "      let quickchartButtonEl =\n",
              "        document.querySelector('#df-0df9465a-ef3a-4769-bf5d-2ad35ec2efcf button');\n",
              "      quickchartButtonEl.style.display =\n",
              "        google.colab.kernel.accessAllowed ? 'block' : 'none';\n",
              "    })();\n",
              "  </script>\n",
              "</div>\n",
              "    </div>\n",
              "  </div>\n"
            ]
          },
          "metadata": {},
          "execution_count": 16
        }
      ],
      "source": [
        "estacion = pd.read_csv('APRENDIZAJE_AUTOMATICO_23_24/0 INTRODUCCION/estacion.csv', encoding = 'latin_1', sep = ';', skiprows = 2, header = None)\n",
        "estacion.head(10)"
      ]
    },
    {
      "cell_type": "markdown",
      "metadata": {
        "pycharm": {
          "name": "#%% md\n"
        },
        "id": "x4rPo8z-JoUQ"
      },
      "source": [
        "### Eliminamos los valores NaN"
      ]
    },
    {
      "cell_type": "code",
      "execution_count": null,
      "metadata": {
        "pycharm": {
          "name": "#%%\n"
        },
        "id": "nNzj5ansJoUQ"
      },
      "outputs": [],
      "source": [
        "estacion = estacion.dropna()\n",
        "estacion.head(10)"
      ]
    },
    {
      "cell_type": "markdown",
      "metadata": {
        "pycharm": {
          "name": "#%% md\n"
        },
        "id": "0Q1Flvi3JoUQ"
      },
      "source": [
        "### Eliminamos valores duplicados"
      ]
    },
    {
      "cell_type": "code",
      "execution_count": null,
      "metadata": {
        "pycharm": {
          "name": "#%%\n"
        },
        "id": "9IzGI_faJoUR"
      },
      "outputs": [],
      "source": [
        "estacion = estacion.drop_duplicates(2)\n",
        "estacion.head()"
      ]
    },
    {
      "cell_type": "markdown",
      "metadata": {
        "pycharm": {
          "name": "#%% md\n"
        },
        "id": "LN9JCcnNJoUR"
      },
      "source": [
        "### Filtramos las columnas que nos interesen de todo el dataframe"
      ]
    },
    {
      "cell_type": "code",
      "execution_count": null,
      "metadata": {
        "pycharm": {
          "name": "#%%\n"
        },
        "id": "NiqoeMExJoUR"
      },
      "outputs": [],
      "source": [
        "estacion = estacion[[2,6,8,11,13]]\n",
        "estacion.head(10)"
      ]
    },
    {
      "cell_type": "markdown",
      "metadata": {
        "pycharm": {
          "name": "#%% md\n"
        },
        "id": "w-LeA7G5JoUR"
      },
      "source": [
        "### Eliminamos la primera fila que contiene las cabeceras originales y las sustituímos."
      ]
    },
    {
      "cell_type": "code",
      "execution_count": null,
      "metadata": {
        "pycharm": {
          "name": "#%%\n"
        },
        "id": "-67meSTFJoUR"
      },
      "outputs": [],
      "source": [
        "estacion.columns = ['Fecha','Temp max','Temp min','Hum max','Hum min']\n",
        "estacion = estacion.drop(estacion.index[[0]])\n",
        "estacion.head()"
      ]
    },
    {
      "cell_type": "markdown",
      "metadata": {
        "pycharm": {
          "name": "#%% md\n"
        },
        "id": "ZzSzNupxJoUR"
      },
      "source": [
        "### Los vales de fecha son en realidad objetos. Los transformamos en series temporales"
      ]
    },
    {
      "cell_type": "code",
      "execution_count": null,
      "metadata": {
        "pycharm": {
          "name": "#%%\n"
        },
        "id": "PpOz60qTJoUR"
      },
      "outputs": [],
      "source": [
        "estacion['Fecha'] = pd.to_datetime(estacion['Fecha'], dayfirst = True)\n",
        "estacion.head()"
      ]
    },
    {
      "cell_type": "markdown",
      "metadata": {
        "pycharm": {
          "name": "#%% md\n"
        },
        "id": "8HjYZcDOJoUR"
      },
      "source": [
        "### Queremos que la fecha sea nuestro index"
      ]
    },
    {
      "cell_type": "code",
      "execution_count": null,
      "metadata": {
        "pycharm": {
          "name": "#%%\n"
        },
        "id": "d0urI_3VJoUR"
      },
      "outputs": [],
      "source": [
        "estacion.set_index(estacion['Fecha'], inplace = True, drop = True)\n",
        "estacion.head()"
      ]
    },
    {
      "cell_type": "markdown",
      "metadata": {
        "pycharm": {
          "name": "#%% md\n"
        },
        "id": "OwgGmp1JJoUR"
      },
      "source": [
        "### Eliminamos la columna de Fecha sobrante"
      ]
    },
    {
      "cell_type": "code",
      "execution_count": null,
      "metadata": {
        "pycharm": {
          "name": "#%%\n"
        },
        "id": "o5g-YCm8JoUR"
      },
      "outputs": [],
      "source": [
        "estacion = estacion.drop('Fecha', 1)\n",
        "estacion.head()"
      ]
    },
    {
      "cell_type": "code",
      "source": [
        "estacion.head()"
      ],
      "metadata": {
        "id": "4Tp6yagZKtXJ"
      },
      "execution_count": null,
      "outputs": []
    },
    {
      "cell_type": "markdown",
      "metadata": {
        "pycharm": {
          "name": "#%% md\n"
        },
        "id": "1wNbUSJsJoUS"
      },
      "source": [
        "### Los datos numéricos puede que sean numéricos o no. Lo comprobamos con la función .dtype"
      ]
    },
    {
      "cell_type": "code",
      "execution_count": null,
      "metadata": {
        "pycharm": {
          "name": "#%%\n"
        },
        "id": "9XPeqYXaJoUS"
      },
      "outputs": [],
      "source": [
        "estacion.index.dtype"
      ]
    },
    {
      "cell_type": "code",
      "execution_count": null,
      "metadata": {
        "pycharm": {
          "name": "#%%\n"
        },
        "id": "S49pXxRaJoUS"
      },
      "outputs": [],
      "source": [
        "estacion['Temp max'].dtype"
      ]
    },
    {
      "cell_type": "markdown",
      "metadata": {
        "pycharm": {
          "name": "#%% md\n"
        },
        "id": "hDpKeKyiJoUS"
      },
      "source": [
        "### Vemos que, salvo el index, el resto de columnas no son números de punto flotante. Lo cambiamos a float con .astype"
      ]
    },
    {
      "cell_type": "code",
      "execution_count": null,
      "metadata": {
        "pycharm": {
          "name": "#%%\n"
        },
        "id": "-u6s-d_9JoUS"
      },
      "outputs": [],
      "source": [
        "estacion[['Temp max', 'Temp min', 'Hum max', 'Hum min']] = estacion[['Temp max', 'Temp min', 'Hum max', 'Hum min']].astype(float)\n",
        "estacion['Temp max'].dtype"
      ]
    },
    {
      "cell_type": "markdown",
      "metadata": {
        "pycharm": {
          "name": "#%% md\n"
        },
        "id": "_21E31o0JoUS"
      },
      "source": [
        "### Localizamos un dato concreto con la función .loc. Introducimos el valor del índice y la cabecera."
      ]
    },
    {
      "cell_type": "code",
      "execution_count": null,
      "metadata": {
        "pycharm": {
          "name": "#%%\n"
        },
        "id": "O4dbI0SVJoUS"
      },
      "outputs": [],
      "source": [
        "estacion.loc['2013-01-04','Temp max']"
      ]
    },
    {
      "cell_type": "markdown",
      "metadata": {
        "pycharm": {
          "name": "#%% md\n"
        },
        "id": "d4G2Bw2zJoUS"
      },
      "source": [
        "### Podemos operar con columnas directamente elemento a elemento. Sacamos la temperatura media a partir de la mínima y máxima."
      ]
    },
    {
      "cell_type": "code",
      "execution_count": null,
      "metadata": {
        "pycharm": {
          "name": "#%%\n"
        },
        "id": "FFiSZtwnJoUT"
      },
      "outputs": [],
      "source": [
        "estacion['Temp media'] = (estacion['Temp max'] + estacion['Temp min'])/2\n",
        "estacion['Hum media'] = (estacion['Hum max'] + estacion['Hum min'])/2\n",
        "estacion.head()"
      ]
    },
    {
      "cell_type": "markdown",
      "metadata": {
        "pycharm": {
          "name": "#%% md\n"
        },
        "id": "EszvHlHeJoUT"
      },
      "source": [
        "### Podemos dibujar todo el dataframe completo con la función .plot"
      ]
    },
    {
      "cell_type": "code",
      "execution_count": null,
      "metadata": {
        "pycharm": {
          "name": "#%%\n"
        },
        "id": "bkE6eYzGJoUT"
      },
      "outputs": [],
      "source": [
        "estacion.plot(figsize = (15,8))"
      ]
    },
    {
      "cell_type": "markdown",
      "metadata": {
        "pycharm": {
          "name": "#%% md\n"
        },
        "id": "IvTd2zjaJoUT"
      },
      "source": [
        "### Podemos filtrar y dibujar lo que nos interese"
      ]
    },
    {
      "cell_type": "code",
      "execution_count": null,
      "metadata": {
        "pycharm": {
          "name": "#%%\n"
        },
        "id": "4rYPzCxoJoUT"
      },
      "outputs": [],
      "source": [
        "estacion['Temp media'].plot(figsize = (15,8), legend = True)\n",
        "estacion['Hum media'].plot(figsize = (15,8))"
      ]
    },
    {
      "cell_type": "code",
      "execution_count": null,
      "metadata": {
        "pycharm": {
          "name": "#%%\n"
        },
        "id": "_SKk9KACJoUT"
      },
      "outputs": [],
      "source": [
        "estacion['Temp media'].plot(figsize = (15,8))"
      ]
    },
    {
      "cell_type": "markdown",
      "metadata": {
        "pycharm": {
          "name": "#%% md\n"
        },
        "id": "GB353jIAJoUT"
      },
      "source": [
        "### Podemos agrupar las temperaturas por meses y hacer la media."
      ]
    },
    {
      "cell_type": "code",
      "execution_count": null,
      "metadata": {
        "pycharm": {
          "name": "#%%\n"
        },
        "id": "2bO1xOEGJoUT"
      },
      "outputs": [],
      "source": [
        "media_mensual = estacion.groupby(lambda x: (x.month)).mean()\n",
        "media_mensual"
      ]
    },
    {
      "cell_type": "code",
      "execution_count": null,
      "metadata": {
        "pycharm": {
          "name": "#%%\n"
        },
        "id": "2j1dAw7lJoUT"
      },
      "outputs": [],
      "source": [
        "media_mensual.plot(figsize = (15,12), subplots = True)"
      ]
    },
    {
      "cell_type": "markdown",
      "metadata": {
        "pycharm": {
          "name": "#%% md\n"
        },
        "id": "W3ravJiEJoUT"
      },
      "source": [
        "## Concatenar columnas de fecha"
      ]
    },
    {
      "cell_type": "markdown",
      "metadata": {
        "pycharm": {
          "name": "#%% md\n"
        },
        "id": "2jttndj5JoUT"
      },
      "source": [
        "### Vamos a concatenar columnas para construir una fecha a partir de una tabla desglosada en año, mes y día."
      ]
    },
    {
      "cell_type": "code",
      "execution_count": null,
      "metadata": {
        "pycharm": {
          "name": "#%%\n"
        },
        "id": "Hjh6d7TlJoUT"
      },
      "outputs": [],
      "source": [
        "tabla = pd.read_csv('fecha_dataset.csv')\n",
        "tabla.head()"
      ]
    },
    {
      "cell_type": "code",
      "execution_count": null,
      "metadata": {
        "pycharm": {
          "name": "#%%\n"
        },
        "id": "t_h8ssmPJoUT"
      },
      "outputs": [],
      "source": [
        "tabla = pd.read_csv('fecha_dataset.csv', sep = ';')\n",
        "tabla.head()"
      ]
    },
    {
      "cell_type": "markdown",
      "metadata": {
        "pycharm": {
          "name": "#%% md\n"
        },
        "id": "FPOHoQ6rJoUU"
      },
      "source": [
        "### En este caso si contatenamos los valores, los suma como enteros, necesitamos que sean cadenas de caracteres."
      ]
    },
    {
      "cell_type": "code",
      "execution_count": null,
      "metadata": {
        "pycharm": {
          "name": "#%%\n"
        },
        "id": "oBaqkWd9JoUU"
      },
      "outputs": [],
      "source": [
        "tabla['Fecha'] = tabla['Dia'] + tabla['Mes'] + tabla['Año']\n",
        "tabla.head()"
      ]
    },
    {
      "cell_type": "markdown",
      "metadata": {
        "pycharm": {
          "name": "#%% md\n"
        },
        "id": "-n4I8YahJoUU"
      },
      "source": [
        "### Ahora si concatenamos vemos que no suma números si no que concatena cada columna."
      ]
    },
    {
      "cell_type": "code",
      "execution_count": null,
      "metadata": {
        "pycharm": {
          "name": "#%%\n"
        },
        "id": "m6A9xmSbJoUU"
      },
      "outputs": [],
      "source": [
        "tabla1 = tabla.astype(str)\n",
        "tabla1['Fecha'] = tabla1['Dia'] +\"-\"+ tabla1['Mes'] +\"-\"+ tabla1['Año']\n",
        "tabla1['Fecha'] = pd.to_datetime(tabla1['Fecha'])\n",
        "tabla1.head()"
      ]
    },
    {
      "cell_type": "markdown",
      "metadata": {
        "pycharm": {
          "name": "#%% md\n"
        },
        "id": "LPqZT3Z5JoUU"
      },
      "source": [
        "### Necesitamos que esa columna la interprete como fecha con la función .to_datetime"
      ]
    },
    {
      "cell_type": "code",
      "execution_count": null,
      "metadata": {
        "pycharm": {
          "name": "#%%\n"
        },
        "id": "VL-kRqr6JoUU"
      },
      "outputs": [],
      "source": [
        "tabla1['Fecha'] = pd.to_datetime(tabla1['Fecha'], format = \"%Y%m%d\")\n",
        "tabla1.head()"
      ]
    },
    {
      "cell_type": "markdown",
      "metadata": {
        "pycharm": {
          "name": "#%% md\n"
        },
        "id": "eAaejO7gJoUU"
      },
      "source": [
        "## Union de dos datasets con el campo Fecha en común"
      ]
    },
    {
      "cell_type": "markdown",
      "metadata": {
        "pycharm": {
          "name": "#%% md\n"
        },
        "id": "kv3j65zHJoUU"
      },
      "source": [
        "### Dataset de temperatura"
      ]
    },
    {
      "cell_type": "code",
      "execution_count": null,
      "metadata": {
        "pycharm": {
          "name": "#%%\n"
        },
        "id": "3gNEOneDJoUU"
      },
      "outputs": [],
      "source": [
        "temperatura1 = pd.read_csv('temperatura1.csv', sep = ';')\n",
        "humedad1 = pd.read_csv('humedad1.csv', sep = ';')\n",
        "temperatura1.head()"
      ]
    },
    {
      "cell_type": "markdown",
      "metadata": {
        "pycharm": {
          "name": "#%% md\n"
        },
        "id": "V8AtZ50QJoUU"
      },
      "source": [
        "### Dataset de humedad"
      ]
    },
    {
      "cell_type": "code",
      "execution_count": null,
      "metadata": {
        "pycharm": {
          "name": "#%%\n"
        },
        "id": "1BozWHW2JoUU"
      },
      "outputs": [],
      "source": [
        "humedad1.head()"
      ]
    },
    {
      "cell_type": "markdown",
      "metadata": {
        "pycharm": {
          "name": "#%% md\n"
        },
        "id": "ay3hzEU4JoUU"
      },
      "source": [
        "### Con la función join, podemos unir la columna de humedad a la de temperatura, ya que comparten el mismo índice."
      ]
    },
    {
      "cell_type": "code",
      "execution_count": null,
      "metadata": {
        "pycharm": {
          "name": "#%%\n"
        },
        "id": "gF5IVacZJoUU"
      },
      "outputs": [],
      "source": [
        "joined = temperatura1.join(humedad1['Humedad Media'])\n",
        "joined.head()"
      ]
    },
    {
      "cell_type": "markdown",
      "metadata": {
        "pycharm": {
          "name": "#%% md\n"
        },
        "id": "g78Jhc1qJoUV"
      },
      "source": [
        "### Una vez unidos, seleccionamos la Fecha como nuestro nuevo índice"
      ]
    },
    {
      "cell_type": "code",
      "execution_count": null,
      "metadata": {
        "pycharm": {
          "name": "#%%\n"
        },
        "id": "nCsfFrpCJoUV"
      },
      "outputs": [],
      "source": [
        "joined = joined.set_index('Fecha').head()\n",
        "joined.head()"
      ]
    },
    {
      "cell_type": "markdown",
      "metadata": {
        "pycharm": {
          "name": "#%% md\n"
        },
        "id": "ZvMyIug3JoUV"
      },
      "source": [
        "### Como vemos, el index no tiene formato fecha."
      ]
    },
    {
      "cell_type": "code",
      "execution_count": null,
      "metadata": {
        "pycharm": {
          "name": "#%%\n"
        },
        "id": "ZdQqKY3kJoUV"
      },
      "outputs": [],
      "source": [
        "joined.index.dtype"
      ]
    },
    {
      "cell_type": "markdown",
      "metadata": {
        "pycharm": {
          "name": "#%% md\n"
        },
        "id": "Bu3UvvTDJoUV"
      },
      "source": [
        "### Se pueden hacer gráficos tridimensionales"
      ]
    },
    {
      "cell_type": "code",
      "execution_count": null,
      "metadata": {
        "pycharm": {
          "name": "#%%\n"
        },
        "id": "i3vmVQwJJoUV"
      },
      "outputs": [],
      "source": [
        "puntos = pd.read_csv('plot_3D.csv', sep = ';')\n",
        "puntos\n"
      ]
    },
    {
      "cell_type": "code",
      "execution_count": null,
      "metadata": {
        "pycharm": {
          "name": "#%%\n"
        },
        "id": "U-BaMcQbJoUV"
      },
      "outputs": [],
      "source": [
        "from mpl_toolkits.mplot3d import Axes3D\n",
        "fig=plt.figure()\n",
        "ax = Axes3D(fig)\n",
        "ax.scatter(puntos['X'],puntos['Y'],puntos['Z'], c = 'green')\n",
        "ax.scatter(puntos['X'],puntos['Y'],puntos['W'], c = 'red')\n",
        "ax.set_xlabel('X')\n",
        "ax.set_ylabel('Y')\n",
        "ax.set_zlabel('Z')\n",
        "fig.add_axes(ax)\n",
        "plt.show()"
      ]
    },
    {
      "cell_type": "code",
      "execution_count": null,
      "metadata": {
        "pycharm": {
          "name": "#%%\n"
        },
        "id": "8GDbIdnjJoUV"
      },
      "outputs": [],
      "source": []
    }
  ],
  "metadata": {
    "kernelspec": {
      "display_name": "Python 3 (ipykernel)",
      "language": "python",
      "name": "python3"
    },
    "language_info": {
      "codemirror_mode": {
        "name": "ipython",
        "version": 3
      },
      "file_extension": ".py",
      "mimetype": "text/x-python",
      "name": "python",
      "nbconvert_exporter": "python",
      "pygments_lexer": "ipython3",
      "version": "3.9.7"
    },
    "colab": {
      "provenance": []
    }
  },
  "nbformat": 4,
  "nbformat_minor": 0
}