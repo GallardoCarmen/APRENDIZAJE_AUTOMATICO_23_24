{
  "cells": [
    {
      "cell_type": "markdown",
      "metadata": {
        "id": "view-in-github",
        "colab_type": "text"
      },
      "source": [
        "<a href=\"https://colab.research.google.com/github/GallardoCarmen/APRENDIZAJE_AUTOMATICO_23_24/blob/main/0%20INTRODUCCION/0.2.%20Estructuras%20de%20control.ipynb\" target=\"_parent\"><img src=\"https://colab.research.google.com/assets/colab-badge.svg\" alt=\"Open In Colab\"/></a>"
      ]
    },
    {
      "cell_type": "code",
      "execution_count": 41,
      "metadata": {
        "pycharm": {
          "name": "#%%\n"
        },
        "id": "ernuRavfc8K-",
        "outputId": "13435e70-a5cf-4f03-b9e7-ac56e8d7a590",
        "colab": {
          "base_uri": "https://localhost:8080/"
        }
      },
      "outputs": [
        {
          "output_type": "stream",
          "name": "stdout",
          "text": [
            "x es menor\n"
          ]
        }
      ],
      "source": [
        "x=2\n",
        "y=4\n",
        "if x<y:\n",
        "    print (\"x es menor\")"
      ]
    },
    {
      "cell_type": "code",
      "execution_count": 42,
      "metadata": {
        "pycharm": {
          "name": "#%%\n"
        },
        "id": "lfkx5-6Kc8K_",
        "outputId": "260cd2ff-c4f0-4d71-aa4b-2dae7c0096e2",
        "colab": {
          "base_uri": "https://localhost:8080/"
        }
      },
      "outputs": [
        {
          "output_type": "stream",
          "name": "stdout",
          "text": [
            "x es mayor\n"
          ]
        }
      ],
      "source": [
        "x=4\n",
        "y=2\n",
        "if x<y:\n",
        "    print (\"x es menor\")\n",
        "elif x>y:\n",
        "    print (\"x es mayor\")"
      ]
    },
    {
      "cell_type": "code",
      "execution_count": 43,
      "metadata": {
        "pycharm": {
          "name": "#%%\n"
        },
        "id": "rG42yjWgc8K_",
        "outputId": "6aa629d5-e6fa-48aa-b1b8-27dd6294f0e3",
        "colab": {
          "base_uri": "https://localhost:8080/"
        }
      },
      "outputs": [
        {
          "output_type": "stream",
          "name": "stdout",
          "text": [
            "son iguales\n"
          ]
        }
      ],
      "source": [
        "x=2\n",
        "y=2\n",
        "if x<y:\n",
        "    print (\"x es menor\")\n",
        "elif x>y:\n",
        "    print (\"x es mayor\")\n",
        "else:\n",
        "    print (\"son iguales\")"
      ]
    },
    {
      "cell_type": "code",
      "execution_count": 44,
      "metadata": {
        "pycharm": {
          "name": "#%%\n"
        },
        "id": "JYejh9kJc8K_"
      },
      "outputs": [],
      "source": [
        "def comparador(x,y):\n",
        "    if x<y:\n",
        "        print (\"x es menor\")\n",
        "    elif x>y:\n",
        "        print (\"x es mayor\")\n",
        "    else:\n",
        "        print (\"son iguales\")"
      ]
    },
    {
      "cell_type": "code",
      "execution_count": 45,
      "metadata": {
        "pycharm": {
          "name": "#%%\n"
        },
        "id": "web7vFGPc8K_",
        "outputId": "52b58504-2f39-4624-9ec1-e9dc936768d2",
        "colab": {
          "base_uri": "https://localhost:8080/"
        }
      },
      "outputs": [
        {
          "output_type": "stream",
          "name": "stdout",
          "text": [
            "x es menor\n"
          ]
        }
      ],
      "source": [
        "comparador(2,4)"
      ]
    },
    {
      "cell_type": "code",
      "execution_count": 46,
      "metadata": {
        "pycharm": {
          "name": "#%%\n"
        },
        "id": "puA-G13tc8LA",
        "outputId": "ebc65e29-f141-47c2-975a-ed5e639c544e",
        "colab": {
          "base_uri": "https://localhost:8080/"
        }
      },
      "outputs": [
        {
          "output_type": "stream",
          "name": "stdout",
          "text": [
            "x es mayor\n"
          ]
        }
      ],
      "source": [
        "comparador(3.4,1.2)"
      ]
    },
    {
      "cell_type": "code",
      "execution_count": 47,
      "metadata": {
        "pycharm": {
          "name": "#%%\n"
        },
        "id": "piVDflM8c8LA",
        "outputId": "c43ff420-c953-44b3-a766-a86e9f6f6073",
        "colab": {
          "base_uri": "https://localhost:8080/"
        }
      },
      "outputs": [
        {
          "output_type": "stream",
          "name": "stdout",
          "text": [
            "0\n",
            "1\n",
            "2\n",
            "3\n",
            "4\n",
            "5\n",
            "6\n",
            "7\n",
            "8\n",
            "9\n"
          ]
        }
      ],
      "source": [
        "#Reseñar la posibilidad de bucle infinito\n",
        "i=0\n",
        "while i<10:\n",
        "    print (i)\n",
        "    i+=1"
      ]
    },
    {
      "cell_type": "code",
      "execution_count": 48,
      "metadata": {
        "pycharm": {
          "name": "#%%\n"
        },
        "id": "EWrW3hV2c8LA",
        "outputId": "e2681ca5-f33d-4255-dcf0-3de80631ee00",
        "colab": {
          "base_uri": "https://localhost:8080/"
        }
      },
      "outputs": [
        {
          "output_type": "stream",
          "name": "stdout",
          "text": [
            "0\n",
            "1\n",
            "2\n",
            "3\n",
            "4\n",
            "5\n",
            "6\n",
            "7\n",
            "8\n",
            "9\n"
          ]
        }
      ],
      "source": [
        "for i in range(0,10):\n",
        "    print (i)"
      ]
    },
    {
      "cell_type": "code",
      "execution_count": 49,
      "metadata": {
        "pycharm": {
          "name": "#%%\n"
        },
        "id": "GkU5qAp6c8LA",
        "outputId": "7c7a15af-203e-4638-af79-24b85c17330f",
        "colab": {
          "base_uri": "https://localhost:8080/"
        }
      },
      "outputs": [
        {
          "output_type": "stream",
          "name": "stdout",
          "text": [
            "i\n",
            "P\n",
            "y\n",
            "t\n",
            "h\n",
            "o\n",
            "n\n",
            "2\n"
          ]
        }
      ],
      "source": [
        "for i in \"iPython2\":\n",
        "    print (i)"
      ]
    },
    {
      "cell_type": "code",
      "execution_count": 50,
      "metadata": {
        "pycharm": {
          "name": "#%%\n"
        },
        "id": "mx7hAypdc8LA",
        "outputId": "b14f44c4-d5a8-4917-e88f-dea6bf2d8557",
        "colab": {
          "base_uri": "https://localhost:8080/"
        }
      },
      "outputs": [
        {
          "output_type": "stream",
          "name": "stdout",
          "text": [
            "Curso\n",
            "de\n",
            "iPtyhon\n"
          ]
        }
      ],
      "source": [
        "for i in \"Curso\",\"de\",\"iPtyhon\":\n",
        "    print (i)"
      ]
    },
    {
      "cell_type": "code",
      "execution_count": 51,
      "metadata": {
        "pycharm": {
          "name": "#%%\n"
        },
        "id": "vdYTOZJrc8LA",
        "outputId": "bd1c2623-2f36-4b47-f36e-bbabc9281d4c",
        "colab": {
          "base_uri": "https://localhost:8080/"
        }
      },
      "outputs": [
        {
          "output_type": "stream",
          "name": "stdout",
          "text": [
            "0\n",
            "1\n",
            "2\n",
            "3\n",
            "4\n"
          ]
        }
      ],
      "source": [
        "for i in range(0,10):\n",
        "    print (i)\n",
        "    if i==4:\n",
        "        break"
      ]
    },
    {
      "cell_type": "code",
      "execution_count": 52,
      "metadata": {
        "pycharm": {
          "name": "#%%\n"
        },
        "id": "JP9mR6-sc8LA",
        "outputId": "a1ae930e-7116-4302-e6bc-4ee11ad4d382",
        "colab": {
          "base_uri": "https://localhost:8080/"
        }
      },
      "outputs": [
        {
          "output_type": "stream",
          "name": "stdout",
          "text": [
            "1 es impar\n",
            "2 es par\n",
            "3 es impar\n",
            "4 es par\n",
            "5 es impar\n",
            "6 es par\n",
            "7 es impar\n",
            "8 es par\n",
            "9 es impar\n",
            "10 es par\n"
          ]
        }
      ],
      "source": [
        "i=1\n",
        "while i<=10:\n",
        "    if i%2==0:\n",
        "        print (str(i)+\" es par\")\n",
        "    else:\n",
        "        print (str(i)+\" es impar\")\n",
        "    i+=1"
      ]
    },
    {
      "cell_type": "markdown",
      "source": [
        "## PROBLEMAS"
      ],
      "metadata": {
        "id": "oqAIQOQSdITs"
      }
    },
    {
      "cell_type": "markdown",
      "source": [
        "1. Escribe una función **invertir_lista** que tome una lista como argumento y devuelva una nueva lista que contiene los elementos de la lista original en orden inverso. No se permite utilizar la función incorporada **reverse()** o la notación de slice **[::-1]**"
      ],
      "metadata": {
        "id": "zO5dbzdidXsD"
      }
    },
    {
      "cell_type": "code",
      "source": [
        "def invertir_lista(lista):\n",
        "  # PROGRAMAR AQUÍ EL CÓDIGO DE LA FUNCIÓN\n",
        "  listaInv = []\n",
        "  for i in range(len(lista),0,-1):\n",
        "    listaInv.append(lista[i-1])\n",
        "  return listaInv\n",
        "# Pruebas\n",
        "print(invertir_lista([1, 2, 3]))\n",
        "assert invertir_lista([1, 2, 3]) == [3, 2, 1]\n",
        "assert invertir_lista([\"a\", \"b\", \"c\"]) == [\"c\", \"b\", \"a\"]\n",
        "assert invertir_lista([]) == []\n",
        "assert invertir_lista([1]) == [1]"
      ],
      "metadata": {
        "id": "RLk0hOVfdgXQ",
        "outputId": "99b73a6b-2509-4015-8d3c-d0b8c3efcf5b",
        "colab": {
          "base_uri": "https://localhost:8080/"
        }
      },
      "execution_count": 53,
      "outputs": [
        {
          "output_type": "stream",
          "name": "stdout",
          "text": [
            "[3, 2, 1]\n"
          ]
        }
      ]
    },
    {
      "cell_type": "markdown",
      "source": [
        "2. Escribe una función **contar_ocurrencias** que tome una lista y un elemento como argumentos. La función debe devolver el número de veces que aparece el elemento en la lista."
      ],
      "metadata": {
        "id": "5Ni2M3Bbd5MH"
      }
    },
    {
      "cell_type": "code",
      "source": [
        "def contar_ocurrencias(lista, elemento):\n",
        "  # PROGRAMAR AQUÍ EL CÓDIGO DE LA FUNCIÓN\n",
        "  contador = 0\n",
        "  for i in range(0,len(lista)):\n",
        "    if lista[i] == elemento:\n",
        "      contador += 1\n",
        "  return contador\n",
        "# Pruebas\n",
        "assert contar_ocurrencias([1, 2, 3, 4, 1, 2, 1], 1) == 3\n",
        "assert contar_ocurrencias([\"a\", \"b\", \"a\"], \"a\") == 2\n",
        "assert contar_ocurrencias([], \"a\") == 0\n",
        "assert contar_ocurrencias([1, 2, 3], 4) == 0"
      ],
      "metadata": {
        "id": "BYKPPL92eCT6"
      },
      "execution_count": 54,
      "outputs": []
    },
    {
      "cell_type": "markdown",
      "source": [
        "3. Escribe una función **es_palindromo** que tome una cadena como argumento y devuelva **True** si la cadena es un palíndromo (se lee igual de izquierda a derecha que de derecha a izquierda) o **False** si no lo es. Ignora las diferencias entre mayúsculas y minúsculas"
      ],
      "metadata": {
        "id": "N2dIncYAeYkb"
      }
    },
    {
      "cell_type": "code",
      "source": [
        "def es_palindromo(cadena):\n",
        "  # PROGRAMAR AQUÍ EL CÓDIGO DE LA FUNCIÓN\n",
        "  cadena = cadena.lower()\n",
        "  cadenaInv = \"\"\n",
        "  for letra in cadena:\n",
        "    cadenaInv = letra + cadenaInv\n",
        "  return cadenaInv == cadena\n",
        "# Pruebas\n",
        "assert es_palindromo(\"Anilina\") == True\n",
        "assert es_palindromo(\"Radar\") == True\n",
        "assert es_palindromo(\"Python\") == False\n",
        "assert es_palindromo(\"a\") == True"
      ],
      "metadata": {
        "id": "Tlv5CnzKek2s"
      },
      "execution_count": 55,
      "outputs": []
    }
  ],
  "metadata": {
    "kernelspec": {
      "display_name": "Python 3",
      "language": "python",
      "name": "python3"
    },
    "language_info": {
      "codemirror_mode": {
        "name": "ipython",
        "version": 3
      },
      "file_extension": ".py",
      "mimetype": "text/x-python",
      "name": "python",
      "nbconvert_exporter": "python",
      "pygments_lexer": "ipython3",
      "version": "3.6.5"
    },
    "colab": {
      "provenance": [],
      "include_colab_link": true
    }
  },
  "nbformat": 4,
  "nbformat_minor": 0
}